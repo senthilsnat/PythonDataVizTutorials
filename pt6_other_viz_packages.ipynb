{
 "cells": [
  {
   "cell_type": "markdown",
   "metadata": {},
   "source": [
    "<div class=\"alert alert-block alert-info\">\n",
    "    <b> Introducing Advanced 3rd Party Packages </b><br>\n",
    "- To this point, we've done all of our data viz exploration using Matplotlib and Seaborn. <br>\n",
    "- In here, we'll explore 3rd party packages like Plotly, Bokeh, and Altair. All of these are extremely powerful plotting libraries that come with their own extensive capabilities and documentation. We're not even going to try to exhaust the possibilities from all packages, but instead simply go through some unique examples of visuals that we can create with each library while getting familiar with the syntax.<br>\n",
    "- Play around with the syntax and parameters defined in this notebook and explore for yourself! <br>\n",
    "    \n",
    "</div>"
   ]
  },
  {
   "cell_type": "markdown",
   "metadata": {},
   "source": [
    "# 0. Prepare Notebook"
   ]
  },
  {
   "cell_type": "code",
   "execution_count": 1,
   "metadata": {},
   "outputs": [],
   "source": [
    "import pandas as pd\n",
    "import matplotlib.pyplot as plt\n",
    "import numpy as np\n",
    "from bokeh.plotting import figure, output_file, show\n",
    "import altair as alt\n",
    "import plotly\n",
    "import plotly.graph_objects as go"
   ]
  },
  {
   "cell_type": "markdown",
   "metadata": {},
   "source": [
    "### Import Data Step\n",
    "- scoring_sample_tm1 and scoring_sample_tm2: Datasets created from old NBA play-by-play data that took all the scoring contributions by players from two NBA teams and converted them into distributions of scoring between positions (Guards, Bigs, Forwards) for each game"
   ]
  },
  {
   "cell_type": "code",
   "execution_count": 2,
   "metadata": {},
   "outputs": [
    {
     "data": {
      "text/html": [
       "<div>\n",
       "<style scoped>\n",
       "    .dataframe tbody tr th:only-of-type {\n",
       "        vertical-align: middle;\n",
       "    }\n",
       "\n",
       "    .dataframe tbody tr th {\n",
       "        vertical-align: top;\n",
       "    }\n",
       "\n",
       "    .dataframe thead th {\n",
       "        text-align: right;\n",
       "    }\n",
       "</style>\n",
       "<table border=\"1\" class=\"dataframe\">\n",
       "  <thead>\n",
       "    <tr style=\"text-align: right;\">\n",
       "      <th></th>\n",
       "      <th>Guards</th>\n",
       "      <th>Bigs</th>\n",
       "      <th>Wings</th>\n",
       "    </tr>\n",
       "  </thead>\n",
       "  <tbody>\n",
       "    <tr>\n",
       "      <td>0</td>\n",
       "      <td>0.566372</td>\n",
       "      <td>0.168142</td>\n",
       "      <td>0.265487</td>\n",
       "    </tr>\n",
       "    <tr>\n",
       "      <td>1</td>\n",
       "      <td>0.424528</td>\n",
       "      <td>0.216981</td>\n",
       "      <td>0.358491</td>\n",
       "    </tr>\n",
       "    <tr>\n",
       "      <td>2</td>\n",
       "      <td>0.521739</td>\n",
       "      <td>0.173913</td>\n",
       "      <td>0.304348</td>\n",
       "    </tr>\n",
       "    <tr>\n",
       "      <td>3</td>\n",
       "      <td>0.451923</td>\n",
       "      <td>0.115385</td>\n",
       "      <td>0.432692</td>\n",
       "    </tr>\n",
       "    <tr>\n",
       "      <td>4</td>\n",
       "      <td>0.443478</td>\n",
       "      <td>0.156522</td>\n",
       "      <td>0.400000</td>\n",
       "    </tr>\n",
       "  </tbody>\n",
       "</table>\n",
       "</div>"
      ],
      "text/plain": [
       "     Guards      Bigs     Wings\n",
       "0  0.566372  0.168142  0.265487\n",
       "1  0.424528  0.216981  0.358491\n",
       "2  0.521739  0.173913  0.304348\n",
       "3  0.451923  0.115385  0.432692\n",
       "4  0.443478  0.156522  0.400000"
      ]
     },
     "execution_count": 2,
     "metadata": {},
     "output_type": "execute_result"
    }
   ],
   "source": [
    "data_tm1 = pd.read_csv('sample_data/scoring_sample_tm1.csv')\n",
    "data_tm2 = pd.read_csv('sample_data/scoring_sample_tm2.csv')\n",
    "data_tm2.head()"
   ]
  },
  {
   "cell_type": "markdown",
   "metadata": {},
   "source": [
    "# 1. Bokeh\n",
    "- Bokeh is a flexible library for interactive data visualization. It's advantage is in its efficiency and versatility. Compared to other libraries, Bokeh is relatively easy to pick up, though admittedly, it's the one I have the least personal experience with. Bokeh has an extremely thorough documentation and user guide: https://hub.gke.mybinder.org/user/bokeh-bokeh-notebooks-0zygh2m4/notebooks/tutorial/00%20-%20Introduction%20and%20Setup.ipynb <br>\n",
    "- The documentation is far more intuitive and comprehensive than what I could build in the span of this notebook, so I'm gonna stick to a couple of examples in here."
   ]
  },
  {
   "cell_type": "code",
   "execution_count": null,
   "metadata": {},
   "outputs": [],
   "source": []
  },
  {
   "cell_type": "code",
   "execution_count": null,
   "metadata": {},
   "outputs": [],
   "source": []
  },
  {
   "cell_type": "code",
   "execution_count": null,
   "metadata": {},
   "outputs": [],
   "source": []
  },
  {
   "cell_type": "markdown",
   "metadata": {},
   "source": [
    "# 2. Plotly\n",
    "- Plotly is an extremely powerful library that creates interactive, presentation-ready charts. It's got tons of plotting capabilities that go beyond the simple archetypes, and is popularly used in static analysis as well as web applications. Plotly also has got its own dashboarding suite called Dash, but we're not going to get into that here.\n",
    "- It's open source, though to expand on the functionalities or to create unlimited charts, you'll need an account.\n",
    "- You can find the documentation and examples on Plotly's website here: https://plotly.com/python/, though I'd say it's definitely a library that takes some acclimating to.\n",
    "- Plotly is set up such that you can write in it using JSON dictionary-style notation, though it just takes some time to figure out all the parameters.\n",
    "- I love Plotly for the variety of unique graphs that we can create, so I'll do a couple examples of those below: Ternary Plots and Windrose Charts."
   ]
  },
  {
   "cell_type": "markdown",
   "metadata": {},
   "source": [
    "## A) Let's start with Ternary Plots"
   ]
  },
  {
   "cell_type": "code",
   "execution_count": 3,
   "metadata": {},
   "outputs": [],
   "source": [
    "# We first need to get our data as an array of dictionaries, where each dict represents the coordinates for one point\n",
    "# We're gonna use the distribution of scoring data that we imported up top... \n",
    "# since Ternary Plots are best at showing shared quantities or distributions between three groups, this is a natural\n",
    "# fit for displaying data on how scoring load is distributed between positions\n",
    "datatm1 = []\n",
    "datatm2 = []\n",
    "\n",
    "for index, row in data_tm1.iterrows():\n",
    "    datatm1.append({'Guards': row['Guards'], 'Bigs': row['Bigs'], 'Wings': row['Wings']})\n",
    "    \n",
    "for index, row in data_tm2.iterrows():\n",
    "    datatm2.append({'Guards': row['Guards'], 'Bigs': row['Bigs'], 'Wings': row['Wings']})"
   ]
  },
  {
   "cell_type": "markdown",
   "metadata": {},
   "source": [
    "### We'll start at the fundamental building block of Plotly graphs: traces"
   ]
  },
  {
   "cell_type": "code",
   "execution_count": 9,
   "metadata": {},
   "outputs": [
    {
     "data": {
      "application/vnd.plotly.v1+json": {
       "config": {
        "plotlyServerURL": "https://plot.ly"
       },
       "data": [
        {
         "a": [
          0.543859649122807,
          0.6022727272727273,
          0.5431034482758621,
          0.4819277108433735,
          0.6464646464646465,
          0.4310344827586207,
          0.5964912280701754,
          0.3783783783783784,
          0.5363636363636364,
          0.4705882352941176,
          0.5511811023622047,
          0.5514018691588785,
          0.487603305785124,
          0.4019607843137255,
          0.5203252032520326,
          0.5564516129032258,
          0.5360824742268041,
          0.5285714285714286,
          0.6311475409836066,
          0.6194690265486725,
          0.456140350877193,
          0.5490196078431373,
          0.5306122448979592,
          0.5714285714285714,
          0.5289256198347108,
          0.5132743362831859,
          0.5490196078431373,
          0.44545454545454544,
          0.5462184873949579,
          0.5849056603773585,
          0.6931818181818182,
          0.5784313725490197,
          0.5196078431372549,
          0.5408163265306123,
          0.4137931034482759,
          0.3181818181818182,
          0.5963302752293578,
          0.6956521739130435,
          0.6698113207547169,
          0.5408163265306123,
          0.6285714285714286,
          0.5486725663716814,
          0.4916666666666666,
          0.4554455445544554,
          0.5306122448979592,
          0.6695652173913044,
          0.6454545454545455,
          0.3877551020408163,
          0.5,
          0.5416666666666666,
          0.4901960784313725,
          0.5045871559633027,
          0.3697478991596639,
          0.5514018691588785,
          0.4204545454545455,
          0.4444444444444444,
          0.5575221238938053,
          0.4742268041237113,
          0.3709677419354839,
          0.5922330097087378,
          0.5148514851485149,
          0.6039603960396039,
          0.5258620689655172,
          0.4395604395604396,
          0.6929824561403509,
          0.5535714285714286,
          0.7314814814814815,
          0.4166666666666667,
          0.5526315789473685,
          0.4537037037037037,
          0.5263157894736842,
          0.6616541353383458,
          0.4842105263157895,
          0.6203703703703703,
          0.4329896907216495,
          0.556390977443609,
          0.5131578947368421,
          0.4956521739130435,
          0.4732142857142857,
          0.4897959183673469,
          0.408,
          0.4521739130434783,
          0.4631578947368421,
          0.404040404040404,
          0.5405405405405406
         ],
         "b": [
          0.42105263157894735,
          0.3295454545454545,
          0.4137931034482759,
          0.4939759036144578,
          0.2929292929292929,
          0.4396551724137931,
          0.2982456140350877,
          0.5225225225225225,
          0.3727272727272728,
          0.4033613445378152,
          0.3622047244094488,
          0.41121495327102797,
          0.4049586776859504,
          0.4705882352941176,
          0.3983739837398374,
          0.3870967741935484,
          0.4020618556701031,
          0.37142857142857133,
          0.2704918032786885,
          0.26548672566371684,
          0.3684210526315789,
          0.38235294117647056,
          0.3775510204081632,
          0.2706766917293233,
          0.3636363636363637,
          0.4690265486725664,
          0.392156862745098,
          0.4818181818181818,
          0.2605042016806723,
          0.2735849056603773,
          0.2159090909090909,
          0.29411764705882354,
          0.3137254901960784,
          0.3163265306122449,
          0.3706896551724138,
          0.5113636363636364,
          0.2568807339449541,
          0.2,
          0.2547169811320755,
          0.3877551020408163,
          0.24761904761904766,
          0.3274336283185841,
          0.43333333333333335,
          0.4455445544554456,
          0.3673469387755102,
          0.14782608695652175,
          0.3363636363636364,
          0.4693877551020408,
          0.41935483870967744,
          0.4583333333333333,
          0.392156862745098,
          0.4770642201834863,
          0.5798319327731093,
          0.29906542056074764,
          0.4886363636363637,
          0.3636363636363637,
          0.4070796460176992,
          0.5257731958762887,
          0.5483870967741935,
          0.2815533980582524,
          0.3960396039603961,
          0.25742574257425743,
          0.4224137931034483,
          0.5384615384615384,
          0.2719298245614035,
          0.4017857142857143,
          0.21296296296296294,
          0.46875,
          0.21929824561403508,
          0.462962962962963,
          0.42105263157894735,
          0.3308270676691729,
          0.4631578947368421,
          0.3055555555555556,
          0.4948453608247423,
          0.40601503759398494,
          0.32894736842105265,
          0.4434782608695652,
          0.4642857142857143,
          0.4081632653061225,
          0.376,
          0.40869565217391307,
          0.4631578947368421,
          0.494949494949495,
          0.32432432432432434
         ],
         "c": [
          0.03508771929824561,
          0.06818181818181818,
          0.04310344827586207,
          0.024096385542168683,
          0.060606060606060615,
          0.12931034482758622,
          0.10526315789473684,
          0.0990990990990991,
          0.09090909090909093,
          0.12605042016806722,
          0.08661417322834647,
          0.037383177570093455,
          0.10743801652892562,
          0.12745098039215685,
          0.08130081300813008,
          0.05645161290322581,
          0.061855670103092786,
          0.1,
          0.09836065573770493,
          0.11504424778761063,
          0.17543859649122806,
          0.06862745098039216,
          0.09183673469387756,
          0.15789473684210525,
          0.10743801652892562,
          0.017699115044247787,
          0.05882352941176471,
          0.07272727272727272,
          0.19327731092436976,
          0.14150943396226415,
          0.09090909090909093,
          0.12745098039215685,
          0.16666666666666666,
          0.14285714285714285,
          0.21551724137931036,
          0.17045454545454544,
          0.14678899082568808,
          0.10434782608695653,
          0.07547169811320754,
          0.07142857142857142,
          0.1238095238095238,
          0.12389380530973453,
          0.075,
          0.099009900990099,
          0.1020408163265306,
          0.1826086956521739,
          0.01818181818181818,
          0.14285714285714285,
          0.08064516129032258,
          0,
          0.1176470588235294,
          0.01834862385321101,
          0.050420168067226885,
          0.14953271028037382,
          0.09090909090909093,
          0.1919191919191919,
          0.035398230088495575,
          0,
          0.08064516129032258,
          0.1262135922330097,
          0.0891089108910891,
          0.13861386138613865,
          0.05172413793103448,
          0.02197802197802198,
          0.03508771929824561,
          0.04464285714285714,
          0.05555555555555555,
          0.11458333333333333,
          0.2280701754385965,
          0.08333333333333333,
          0.05263157894736842,
          0.0075187969924812035,
          0.05263157894736842,
          0.07407407407407407,
          0.07216494845360824,
          0.03759398496240601,
          0.15789473684210525,
          0.060869565217391314,
          0.0625,
          0.1020408163265306,
          0.21600000000000003,
          0.1391304347826087,
          0.07368421052631577,
          0.101010101010101,
          0.13513513513513514
         ],
         "marker": {
          "color": "#DB7365",
          "line": {
           "width": 2
          },
          "size": 14,
          "symbol": 100
         },
         "mode": "markers",
         "name": "Team 1 Scoring",
         "type": "scatterternary"
        }
       ],
       "layout": {
        "template": {
         "data": {
          "bar": [
           {
            "error_x": {
             "color": "#2a3f5f"
            },
            "error_y": {
             "color": "#2a3f5f"
            },
            "marker": {
             "line": {
              "color": "#E5ECF6",
              "width": 0.5
             }
            },
            "type": "bar"
           }
          ],
          "barpolar": [
           {
            "marker": {
             "line": {
              "color": "#E5ECF6",
              "width": 0.5
             }
            },
            "type": "barpolar"
           }
          ],
          "carpet": [
           {
            "aaxis": {
             "endlinecolor": "#2a3f5f",
             "gridcolor": "white",
             "linecolor": "white",
             "minorgridcolor": "white",
             "startlinecolor": "#2a3f5f"
            },
            "baxis": {
             "endlinecolor": "#2a3f5f",
             "gridcolor": "white",
             "linecolor": "white",
             "minorgridcolor": "white",
             "startlinecolor": "#2a3f5f"
            },
            "type": "carpet"
           }
          ],
          "choropleth": [
           {
            "colorbar": {
             "outlinewidth": 0,
             "ticks": ""
            },
            "type": "choropleth"
           }
          ],
          "contour": [
           {
            "colorbar": {
             "outlinewidth": 0,
             "ticks": ""
            },
            "colorscale": [
             [
              0,
              "#0d0887"
             ],
             [
              0.1111111111111111,
              "#46039f"
             ],
             [
              0.2222222222222222,
              "#7201a8"
             ],
             [
              0.3333333333333333,
              "#9c179e"
             ],
             [
              0.4444444444444444,
              "#bd3786"
             ],
             [
              0.5555555555555556,
              "#d8576b"
             ],
             [
              0.6666666666666666,
              "#ed7953"
             ],
             [
              0.7777777777777778,
              "#fb9f3a"
             ],
             [
              0.8888888888888888,
              "#fdca26"
             ],
             [
              1,
              "#f0f921"
             ]
            ],
            "type": "contour"
           }
          ],
          "contourcarpet": [
           {
            "colorbar": {
             "outlinewidth": 0,
             "ticks": ""
            },
            "type": "contourcarpet"
           }
          ],
          "heatmap": [
           {
            "colorbar": {
             "outlinewidth": 0,
             "ticks": ""
            },
            "colorscale": [
             [
              0,
              "#0d0887"
             ],
             [
              0.1111111111111111,
              "#46039f"
             ],
             [
              0.2222222222222222,
              "#7201a8"
             ],
             [
              0.3333333333333333,
              "#9c179e"
             ],
             [
              0.4444444444444444,
              "#bd3786"
             ],
             [
              0.5555555555555556,
              "#d8576b"
             ],
             [
              0.6666666666666666,
              "#ed7953"
             ],
             [
              0.7777777777777778,
              "#fb9f3a"
             ],
             [
              0.8888888888888888,
              "#fdca26"
             ],
             [
              1,
              "#f0f921"
             ]
            ],
            "type": "heatmap"
           }
          ],
          "heatmapgl": [
           {
            "colorbar": {
             "outlinewidth": 0,
             "ticks": ""
            },
            "colorscale": [
             [
              0,
              "#0d0887"
             ],
             [
              0.1111111111111111,
              "#46039f"
             ],
             [
              0.2222222222222222,
              "#7201a8"
             ],
             [
              0.3333333333333333,
              "#9c179e"
             ],
             [
              0.4444444444444444,
              "#bd3786"
             ],
             [
              0.5555555555555556,
              "#d8576b"
             ],
             [
              0.6666666666666666,
              "#ed7953"
             ],
             [
              0.7777777777777778,
              "#fb9f3a"
             ],
             [
              0.8888888888888888,
              "#fdca26"
             ],
             [
              1,
              "#f0f921"
             ]
            ],
            "type": "heatmapgl"
           }
          ],
          "histogram": [
           {
            "marker": {
             "colorbar": {
              "outlinewidth": 0,
              "ticks": ""
             }
            },
            "type": "histogram"
           }
          ],
          "histogram2d": [
           {
            "colorbar": {
             "outlinewidth": 0,
             "ticks": ""
            },
            "colorscale": [
             [
              0,
              "#0d0887"
             ],
             [
              0.1111111111111111,
              "#46039f"
             ],
             [
              0.2222222222222222,
              "#7201a8"
             ],
             [
              0.3333333333333333,
              "#9c179e"
             ],
             [
              0.4444444444444444,
              "#bd3786"
             ],
             [
              0.5555555555555556,
              "#d8576b"
             ],
             [
              0.6666666666666666,
              "#ed7953"
             ],
             [
              0.7777777777777778,
              "#fb9f3a"
             ],
             [
              0.8888888888888888,
              "#fdca26"
             ],
             [
              1,
              "#f0f921"
             ]
            ],
            "type": "histogram2d"
           }
          ],
          "histogram2dcontour": [
           {
            "colorbar": {
             "outlinewidth": 0,
             "ticks": ""
            },
            "colorscale": [
             [
              0,
              "#0d0887"
             ],
             [
              0.1111111111111111,
              "#46039f"
             ],
             [
              0.2222222222222222,
              "#7201a8"
             ],
             [
              0.3333333333333333,
              "#9c179e"
             ],
             [
              0.4444444444444444,
              "#bd3786"
             ],
             [
              0.5555555555555556,
              "#d8576b"
             ],
             [
              0.6666666666666666,
              "#ed7953"
             ],
             [
              0.7777777777777778,
              "#fb9f3a"
             ],
             [
              0.8888888888888888,
              "#fdca26"
             ],
             [
              1,
              "#f0f921"
             ]
            ],
            "type": "histogram2dcontour"
           }
          ],
          "mesh3d": [
           {
            "colorbar": {
             "outlinewidth": 0,
             "ticks": ""
            },
            "type": "mesh3d"
           }
          ],
          "parcoords": [
           {
            "line": {
             "colorbar": {
              "outlinewidth": 0,
              "ticks": ""
             }
            },
            "type": "parcoords"
           }
          ],
          "pie": [
           {
            "automargin": true,
            "type": "pie"
           }
          ],
          "scatter": [
           {
            "marker": {
             "colorbar": {
              "outlinewidth": 0,
              "ticks": ""
             }
            },
            "type": "scatter"
           }
          ],
          "scatter3d": [
           {
            "line": {
             "colorbar": {
              "outlinewidth": 0,
              "ticks": ""
             }
            },
            "marker": {
             "colorbar": {
              "outlinewidth": 0,
              "ticks": ""
             }
            },
            "type": "scatter3d"
           }
          ],
          "scattercarpet": [
           {
            "marker": {
             "colorbar": {
              "outlinewidth": 0,
              "ticks": ""
             }
            },
            "type": "scattercarpet"
           }
          ],
          "scattergeo": [
           {
            "marker": {
             "colorbar": {
              "outlinewidth": 0,
              "ticks": ""
             }
            },
            "type": "scattergeo"
           }
          ],
          "scattergl": [
           {
            "marker": {
             "colorbar": {
              "outlinewidth": 0,
              "ticks": ""
             }
            },
            "type": "scattergl"
           }
          ],
          "scattermapbox": [
           {
            "marker": {
             "colorbar": {
              "outlinewidth": 0,
              "ticks": ""
             }
            },
            "type": "scattermapbox"
           }
          ],
          "scatterpolar": [
           {
            "marker": {
             "colorbar": {
              "outlinewidth": 0,
              "ticks": ""
             }
            },
            "type": "scatterpolar"
           }
          ],
          "scatterpolargl": [
           {
            "marker": {
             "colorbar": {
              "outlinewidth": 0,
              "ticks": ""
             }
            },
            "type": "scatterpolargl"
           }
          ],
          "scatterternary": [
           {
            "marker": {
             "colorbar": {
              "outlinewidth": 0,
              "ticks": ""
             }
            },
            "type": "scatterternary"
           }
          ],
          "surface": [
           {
            "colorbar": {
             "outlinewidth": 0,
             "ticks": ""
            },
            "colorscale": [
             [
              0,
              "#0d0887"
             ],
             [
              0.1111111111111111,
              "#46039f"
             ],
             [
              0.2222222222222222,
              "#7201a8"
             ],
             [
              0.3333333333333333,
              "#9c179e"
             ],
             [
              0.4444444444444444,
              "#bd3786"
             ],
             [
              0.5555555555555556,
              "#d8576b"
             ],
             [
              0.6666666666666666,
              "#ed7953"
             ],
             [
              0.7777777777777778,
              "#fb9f3a"
             ],
             [
              0.8888888888888888,
              "#fdca26"
             ],
             [
              1,
              "#f0f921"
             ]
            ],
            "type": "surface"
           }
          ],
          "table": [
           {
            "cells": {
             "fill": {
              "color": "#EBF0F8"
             },
             "line": {
              "color": "white"
             }
            },
            "header": {
             "fill": {
              "color": "#C8D4E3"
             },
             "line": {
              "color": "white"
             }
            },
            "type": "table"
           }
          ]
         },
         "layout": {
          "annotationdefaults": {
           "arrowcolor": "#2a3f5f",
           "arrowhead": 0,
           "arrowwidth": 1
          },
          "coloraxis": {
           "colorbar": {
            "outlinewidth": 0,
            "ticks": ""
           }
          },
          "colorscale": {
           "diverging": [
            [
             0,
             "#8e0152"
            ],
            [
             0.1,
             "#c51b7d"
            ],
            [
             0.2,
             "#de77ae"
            ],
            [
             0.3,
             "#f1b6da"
            ],
            [
             0.4,
             "#fde0ef"
            ],
            [
             0.5,
             "#f7f7f7"
            ],
            [
             0.6,
             "#e6f5d0"
            ],
            [
             0.7,
             "#b8e186"
            ],
            [
             0.8,
             "#7fbc41"
            ],
            [
             0.9,
             "#4d9221"
            ],
            [
             1,
             "#276419"
            ]
           ],
           "sequential": [
            [
             0,
             "#0d0887"
            ],
            [
             0.1111111111111111,
             "#46039f"
            ],
            [
             0.2222222222222222,
             "#7201a8"
            ],
            [
             0.3333333333333333,
             "#9c179e"
            ],
            [
             0.4444444444444444,
             "#bd3786"
            ],
            [
             0.5555555555555556,
             "#d8576b"
            ],
            [
             0.6666666666666666,
             "#ed7953"
            ],
            [
             0.7777777777777778,
             "#fb9f3a"
            ],
            [
             0.8888888888888888,
             "#fdca26"
            ],
            [
             1,
             "#f0f921"
            ]
           ],
           "sequentialminus": [
            [
             0,
             "#0d0887"
            ],
            [
             0.1111111111111111,
             "#46039f"
            ],
            [
             0.2222222222222222,
             "#7201a8"
            ],
            [
             0.3333333333333333,
             "#9c179e"
            ],
            [
             0.4444444444444444,
             "#bd3786"
            ],
            [
             0.5555555555555556,
             "#d8576b"
            ],
            [
             0.6666666666666666,
             "#ed7953"
            ],
            [
             0.7777777777777778,
             "#fb9f3a"
            ],
            [
             0.8888888888888888,
             "#fdca26"
            ],
            [
             1,
             "#f0f921"
            ]
           ]
          },
          "colorway": [
           "#636efa",
           "#EF553B",
           "#00cc96",
           "#ab63fa",
           "#FFA15A",
           "#19d3f3",
           "#FF6692",
           "#B6E880",
           "#FF97FF",
           "#FECB52"
          ],
          "font": {
           "color": "#2a3f5f"
          },
          "geo": {
           "bgcolor": "white",
           "lakecolor": "white",
           "landcolor": "#E5ECF6",
           "showlakes": true,
           "showland": true,
           "subunitcolor": "white"
          },
          "hoverlabel": {
           "align": "left"
          },
          "hovermode": "closest",
          "mapbox": {
           "style": "light"
          },
          "paper_bgcolor": "white",
          "plot_bgcolor": "#E5ECF6",
          "polar": {
           "angularaxis": {
            "gridcolor": "white",
            "linecolor": "white",
            "ticks": ""
           },
           "bgcolor": "#E5ECF6",
           "radialaxis": {
            "gridcolor": "white",
            "linecolor": "white",
            "ticks": ""
           }
          },
          "scene": {
           "xaxis": {
            "backgroundcolor": "#E5ECF6",
            "gridcolor": "white",
            "gridwidth": 2,
            "linecolor": "white",
            "showbackground": true,
            "ticks": "",
            "zerolinecolor": "white"
           },
           "yaxis": {
            "backgroundcolor": "#E5ECF6",
            "gridcolor": "white",
            "gridwidth": 2,
            "linecolor": "white",
            "showbackground": true,
            "ticks": "",
            "zerolinecolor": "white"
           },
           "zaxis": {
            "backgroundcolor": "#E5ECF6",
            "gridcolor": "white",
            "gridwidth": 2,
            "linecolor": "white",
            "showbackground": true,
            "ticks": "",
            "zerolinecolor": "white"
           }
          },
          "shapedefaults": {
           "line": {
            "color": "#2a3f5f"
           }
          },
          "ternary": {
           "aaxis": {
            "gridcolor": "white",
            "linecolor": "white",
            "ticks": ""
           },
           "baxis": {
            "gridcolor": "white",
            "linecolor": "white",
            "ticks": ""
           },
           "bgcolor": "#E5ECF6",
           "caxis": {
            "gridcolor": "white",
            "linecolor": "white",
            "ticks": ""
           }
          },
          "title": {
           "x": 0.05
          },
          "xaxis": {
           "automargin": true,
           "gridcolor": "white",
           "linecolor": "white",
           "ticks": "",
           "title": {
            "standoff": 15
           },
           "zerolinecolor": "white",
           "zerolinewidth": 2
          },
          "yaxis": {
           "automargin": true,
           "gridcolor": "white",
           "linecolor": "white",
           "ticks": "",
           "title": {
            "standoff": 15
           },
           "zerolinecolor": "white",
           "zerolinewidth": 2
          }
         }
        }
       }
      },
      "text/html": [
       "<div>\n",
       "        \n",
       "        \n",
       "            <div id=\"0dbf3971-154c-4ab8-a673-175e7edae463\" class=\"plotly-graph-div\" style=\"height:525px; width:100%;\"></div>\n",
       "            <script type=\"text/javascript\">\n",
       "                require([\"plotly\"], function(Plotly) {\n",
       "                    window.PLOTLYENV=window.PLOTLYENV || {};\n",
       "                    \n",
       "                if (document.getElementById(\"0dbf3971-154c-4ab8-a673-175e7edae463\")) {\n",
       "                    Plotly.newPlot(\n",
       "                        '0dbf3971-154c-4ab8-a673-175e7edae463',\n",
       "                        [{\"a\": [0.543859649122807, 0.6022727272727273, 0.5431034482758621, 0.4819277108433735, 0.6464646464646465, 0.4310344827586207, 0.5964912280701754, 0.3783783783783784, 0.5363636363636364, 0.4705882352941176, 0.5511811023622047, 0.5514018691588785, 0.487603305785124, 0.4019607843137255, 0.5203252032520326, 0.5564516129032258, 0.5360824742268041, 0.5285714285714286, 0.6311475409836066, 0.6194690265486725, 0.456140350877193, 0.5490196078431373, 0.5306122448979592, 0.5714285714285714, 0.5289256198347108, 0.5132743362831859, 0.5490196078431373, 0.44545454545454544, 0.5462184873949579, 0.5849056603773585, 0.6931818181818182, 0.5784313725490197, 0.5196078431372549, 0.5408163265306123, 0.4137931034482759, 0.3181818181818182, 0.5963302752293578, 0.6956521739130435, 0.6698113207547169, 0.5408163265306123, 0.6285714285714286, 0.5486725663716814, 0.4916666666666666, 0.4554455445544554, 0.5306122448979592, 0.6695652173913044, 0.6454545454545455, 0.3877551020408163, 0.5, 0.5416666666666666, 0.4901960784313725, 0.5045871559633027, 0.3697478991596639, 0.5514018691588785, 0.4204545454545455, 0.4444444444444444, 0.5575221238938053, 0.4742268041237113, 0.3709677419354839, 0.5922330097087378, 0.5148514851485149, 0.6039603960396039, 0.5258620689655172, 0.4395604395604396, 0.6929824561403509, 0.5535714285714286, 0.7314814814814815, 0.4166666666666667, 0.5526315789473685, 0.4537037037037037, 0.5263157894736842, 0.6616541353383458, 0.4842105263157895, 0.6203703703703703, 0.4329896907216495, 0.556390977443609, 0.5131578947368421, 0.4956521739130435, 0.4732142857142857, 0.4897959183673469, 0.408, 0.4521739130434783, 0.4631578947368421, 0.404040404040404, 0.5405405405405406], \"b\": [0.42105263157894735, 0.3295454545454545, 0.4137931034482759, 0.4939759036144578, 0.2929292929292929, 0.4396551724137931, 0.2982456140350877, 0.5225225225225225, 0.3727272727272728, 0.4033613445378152, 0.3622047244094488, 0.41121495327102797, 0.4049586776859504, 0.4705882352941176, 0.3983739837398374, 0.3870967741935484, 0.4020618556701031, 0.37142857142857133, 0.2704918032786885, 0.26548672566371684, 0.3684210526315789, 0.38235294117647056, 0.3775510204081632, 0.2706766917293233, 0.3636363636363637, 0.4690265486725664, 0.392156862745098, 0.4818181818181818, 0.2605042016806723, 0.2735849056603773, 0.2159090909090909, 0.29411764705882354, 0.3137254901960784, 0.3163265306122449, 0.3706896551724138, 0.5113636363636364, 0.2568807339449541, 0.2, 0.2547169811320755, 0.3877551020408163, 0.24761904761904766, 0.3274336283185841, 0.43333333333333335, 0.4455445544554456, 0.3673469387755102, 0.14782608695652175, 0.3363636363636364, 0.4693877551020408, 0.41935483870967744, 0.4583333333333333, 0.392156862745098, 0.4770642201834863, 0.5798319327731093, 0.29906542056074764, 0.4886363636363637, 0.3636363636363637, 0.4070796460176992, 0.5257731958762887, 0.5483870967741935, 0.2815533980582524, 0.3960396039603961, 0.25742574257425743, 0.4224137931034483, 0.5384615384615384, 0.2719298245614035, 0.4017857142857143, 0.21296296296296294, 0.46875, 0.21929824561403508, 0.462962962962963, 0.42105263157894735, 0.3308270676691729, 0.4631578947368421, 0.3055555555555556, 0.4948453608247423, 0.40601503759398494, 0.32894736842105265, 0.4434782608695652, 0.4642857142857143, 0.4081632653061225, 0.376, 0.40869565217391307, 0.4631578947368421, 0.494949494949495, 0.32432432432432434], \"c\": [0.03508771929824561, 0.06818181818181818, 0.04310344827586207, 0.024096385542168683, 0.060606060606060615, 0.12931034482758622, 0.10526315789473684, 0.0990990990990991, 0.09090909090909093, 0.12605042016806722, 0.08661417322834647, 0.037383177570093455, 0.10743801652892562, 0.12745098039215685, 0.08130081300813008, 0.05645161290322581, 0.061855670103092786, 0.1, 0.09836065573770493, 0.11504424778761063, 0.17543859649122806, 0.06862745098039216, 0.09183673469387756, 0.15789473684210525, 0.10743801652892562, 0.017699115044247787, 0.05882352941176471, 0.07272727272727272, 0.19327731092436976, 0.14150943396226415, 0.09090909090909093, 0.12745098039215685, 0.16666666666666666, 0.14285714285714285, 0.21551724137931036, 0.17045454545454544, 0.14678899082568808, 0.10434782608695653, 0.07547169811320754, 0.07142857142857142, 0.1238095238095238, 0.12389380530973453, 0.075, 0.099009900990099, 0.1020408163265306, 0.1826086956521739, 0.01818181818181818, 0.14285714285714285, 0.08064516129032258, 0.0, 0.1176470588235294, 0.01834862385321101, 0.050420168067226885, 0.14953271028037382, 0.09090909090909093, 0.1919191919191919, 0.035398230088495575, 0.0, 0.08064516129032258, 0.1262135922330097, 0.0891089108910891, 0.13861386138613865, 0.05172413793103448, 0.02197802197802198, 0.03508771929824561, 0.04464285714285714, 0.05555555555555555, 0.11458333333333333, 0.2280701754385965, 0.08333333333333333, 0.05263157894736842, 0.0075187969924812035, 0.05263157894736842, 0.07407407407407407, 0.07216494845360824, 0.03759398496240601, 0.15789473684210525, 0.060869565217391314, 0.0625, 0.1020408163265306, 0.21600000000000003, 0.1391304347826087, 0.07368421052631577, 0.101010101010101, 0.13513513513513514], \"marker\": {\"color\": \"#DB7365\", \"line\": {\"width\": 2}, \"size\": 14, \"symbol\": 100}, \"mode\": \"markers\", \"name\": \"Team 1 Scoring\", \"type\": \"scatterternary\"}],\n",
       "                        {\"template\": {\"data\": {\"bar\": [{\"error_x\": {\"color\": \"#2a3f5f\"}, \"error_y\": {\"color\": \"#2a3f5f\"}, \"marker\": {\"line\": {\"color\": \"#E5ECF6\", \"width\": 0.5}}, \"type\": \"bar\"}], \"barpolar\": [{\"marker\": {\"line\": {\"color\": \"#E5ECF6\", \"width\": 0.5}}, \"type\": \"barpolar\"}], \"carpet\": [{\"aaxis\": {\"endlinecolor\": \"#2a3f5f\", \"gridcolor\": \"white\", \"linecolor\": \"white\", \"minorgridcolor\": \"white\", \"startlinecolor\": \"#2a3f5f\"}, \"baxis\": {\"endlinecolor\": \"#2a3f5f\", \"gridcolor\": \"white\", \"linecolor\": \"white\", \"minorgridcolor\": \"white\", \"startlinecolor\": \"#2a3f5f\"}, \"type\": \"carpet\"}], \"choropleth\": [{\"colorbar\": {\"outlinewidth\": 0, \"ticks\": \"\"}, \"type\": \"choropleth\"}], \"contour\": [{\"colorbar\": {\"outlinewidth\": 0, \"ticks\": \"\"}, \"colorscale\": [[0.0, \"#0d0887\"], [0.1111111111111111, \"#46039f\"], [0.2222222222222222, \"#7201a8\"], [0.3333333333333333, \"#9c179e\"], [0.4444444444444444, \"#bd3786\"], [0.5555555555555556, \"#d8576b\"], [0.6666666666666666, \"#ed7953\"], [0.7777777777777778, \"#fb9f3a\"], [0.8888888888888888, \"#fdca26\"], [1.0, \"#f0f921\"]], \"type\": \"contour\"}], \"contourcarpet\": [{\"colorbar\": {\"outlinewidth\": 0, \"ticks\": \"\"}, \"type\": \"contourcarpet\"}], \"heatmap\": [{\"colorbar\": {\"outlinewidth\": 0, \"ticks\": \"\"}, \"colorscale\": [[0.0, \"#0d0887\"], [0.1111111111111111, \"#46039f\"], [0.2222222222222222, \"#7201a8\"], [0.3333333333333333, \"#9c179e\"], [0.4444444444444444, \"#bd3786\"], [0.5555555555555556, \"#d8576b\"], [0.6666666666666666, \"#ed7953\"], [0.7777777777777778, \"#fb9f3a\"], [0.8888888888888888, \"#fdca26\"], [1.0, \"#f0f921\"]], \"type\": \"heatmap\"}], \"heatmapgl\": [{\"colorbar\": {\"outlinewidth\": 0, \"ticks\": \"\"}, \"colorscale\": [[0.0, \"#0d0887\"], [0.1111111111111111, \"#46039f\"], [0.2222222222222222, \"#7201a8\"], [0.3333333333333333, \"#9c179e\"], [0.4444444444444444, \"#bd3786\"], [0.5555555555555556, \"#d8576b\"], [0.6666666666666666, \"#ed7953\"], [0.7777777777777778, \"#fb9f3a\"], [0.8888888888888888, \"#fdca26\"], [1.0, \"#f0f921\"]], \"type\": \"heatmapgl\"}], \"histogram\": [{\"marker\": {\"colorbar\": {\"outlinewidth\": 0, \"ticks\": \"\"}}, \"type\": \"histogram\"}], \"histogram2d\": [{\"colorbar\": {\"outlinewidth\": 0, \"ticks\": \"\"}, \"colorscale\": [[0.0, \"#0d0887\"], [0.1111111111111111, \"#46039f\"], [0.2222222222222222, \"#7201a8\"], [0.3333333333333333, \"#9c179e\"], [0.4444444444444444, \"#bd3786\"], [0.5555555555555556, \"#d8576b\"], [0.6666666666666666, \"#ed7953\"], [0.7777777777777778, \"#fb9f3a\"], [0.8888888888888888, \"#fdca26\"], [1.0, \"#f0f921\"]], \"type\": \"histogram2d\"}], \"histogram2dcontour\": [{\"colorbar\": {\"outlinewidth\": 0, \"ticks\": \"\"}, \"colorscale\": [[0.0, \"#0d0887\"], [0.1111111111111111, \"#46039f\"], [0.2222222222222222, \"#7201a8\"], [0.3333333333333333, \"#9c179e\"], [0.4444444444444444, \"#bd3786\"], [0.5555555555555556, \"#d8576b\"], [0.6666666666666666, \"#ed7953\"], [0.7777777777777778, \"#fb9f3a\"], [0.8888888888888888, \"#fdca26\"], [1.0, \"#f0f921\"]], \"type\": \"histogram2dcontour\"}], \"mesh3d\": [{\"colorbar\": {\"outlinewidth\": 0, \"ticks\": \"\"}, \"type\": \"mesh3d\"}], \"parcoords\": [{\"line\": {\"colorbar\": {\"outlinewidth\": 0, \"ticks\": \"\"}}, \"type\": \"parcoords\"}], \"pie\": [{\"automargin\": true, \"type\": \"pie\"}], \"scatter\": [{\"marker\": {\"colorbar\": {\"outlinewidth\": 0, \"ticks\": \"\"}}, \"type\": \"scatter\"}], \"scatter3d\": [{\"line\": {\"colorbar\": {\"outlinewidth\": 0, \"ticks\": \"\"}}, \"marker\": {\"colorbar\": {\"outlinewidth\": 0, \"ticks\": \"\"}}, \"type\": \"scatter3d\"}], \"scattercarpet\": [{\"marker\": {\"colorbar\": {\"outlinewidth\": 0, \"ticks\": \"\"}}, \"type\": \"scattercarpet\"}], \"scattergeo\": [{\"marker\": {\"colorbar\": {\"outlinewidth\": 0, \"ticks\": \"\"}}, \"type\": \"scattergeo\"}], \"scattergl\": [{\"marker\": {\"colorbar\": {\"outlinewidth\": 0, \"ticks\": \"\"}}, \"type\": \"scattergl\"}], \"scattermapbox\": [{\"marker\": {\"colorbar\": {\"outlinewidth\": 0, \"ticks\": \"\"}}, \"type\": \"scattermapbox\"}], \"scatterpolar\": [{\"marker\": {\"colorbar\": {\"outlinewidth\": 0, \"ticks\": \"\"}}, \"type\": \"scatterpolar\"}], \"scatterpolargl\": [{\"marker\": {\"colorbar\": {\"outlinewidth\": 0, \"ticks\": \"\"}}, \"type\": \"scatterpolargl\"}], \"scatterternary\": [{\"marker\": {\"colorbar\": {\"outlinewidth\": 0, \"ticks\": \"\"}}, \"type\": \"scatterternary\"}], \"surface\": [{\"colorbar\": {\"outlinewidth\": 0, \"ticks\": \"\"}, \"colorscale\": [[0.0, \"#0d0887\"], [0.1111111111111111, \"#46039f\"], [0.2222222222222222, \"#7201a8\"], [0.3333333333333333, \"#9c179e\"], [0.4444444444444444, \"#bd3786\"], [0.5555555555555556, \"#d8576b\"], [0.6666666666666666, \"#ed7953\"], [0.7777777777777778, \"#fb9f3a\"], [0.8888888888888888, \"#fdca26\"], [1.0, \"#f0f921\"]], \"type\": \"surface\"}], \"table\": [{\"cells\": {\"fill\": {\"color\": \"#EBF0F8\"}, \"line\": {\"color\": \"white\"}}, \"header\": {\"fill\": {\"color\": \"#C8D4E3\"}, \"line\": {\"color\": \"white\"}}, \"type\": \"table\"}]}, \"layout\": {\"annotationdefaults\": {\"arrowcolor\": \"#2a3f5f\", \"arrowhead\": 0, \"arrowwidth\": 1}, \"coloraxis\": {\"colorbar\": {\"outlinewidth\": 0, \"ticks\": \"\"}}, \"colorscale\": {\"diverging\": [[0, \"#8e0152\"], [0.1, \"#c51b7d\"], [0.2, \"#de77ae\"], [0.3, \"#f1b6da\"], [0.4, \"#fde0ef\"], [0.5, \"#f7f7f7\"], [0.6, \"#e6f5d0\"], [0.7, \"#b8e186\"], [0.8, \"#7fbc41\"], [0.9, \"#4d9221\"], [1, \"#276419\"]], \"sequential\": [[0.0, \"#0d0887\"], [0.1111111111111111, \"#46039f\"], [0.2222222222222222, \"#7201a8\"], [0.3333333333333333, \"#9c179e\"], [0.4444444444444444, \"#bd3786\"], [0.5555555555555556, \"#d8576b\"], [0.6666666666666666, \"#ed7953\"], [0.7777777777777778, \"#fb9f3a\"], [0.8888888888888888, \"#fdca26\"], [1.0, \"#f0f921\"]], \"sequentialminus\": [[0.0, \"#0d0887\"], [0.1111111111111111, \"#46039f\"], [0.2222222222222222, \"#7201a8\"], [0.3333333333333333, \"#9c179e\"], [0.4444444444444444, \"#bd3786\"], [0.5555555555555556, \"#d8576b\"], [0.6666666666666666, \"#ed7953\"], [0.7777777777777778, \"#fb9f3a\"], [0.8888888888888888, \"#fdca26\"], [1.0, \"#f0f921\"]]}, \"colorway\": [\"#636efa\", \"#EF553B\", \"#00cc96\", \"#ab63fa\", \"#FFA15A\", \"#19d3f3\", \"#FF6692\", \"#B6E880\", \"#FF97FF\", \"#FECB52\"], \"font\": {\"color\": \"#2a3f5f\"}, \"geo\": {\"bgcolor\": \"white\", \"lakecolor\": \"white\", \"landcolor\": \"#E5ECF6\", \"showlakes\": true, \"showland\": true, \"subunitcolor\": \"white\"}, \"hoverlabel\": {\"align\": \"left\"}, \"hovermode\": \"closest\", \"mapbox\": {\"style\": \"light\"}, \"paper_bgcolor\": \"white\", \"plot_bgcolor\": \"#E5ECF6\", \"polar\": {\"angularaxis\": {\"gridcolor\": \"white\", \"linecolor\": \"white\", \"ticks\": \"\"}, \"bgcolor\": \"#E5ECF6\", \"radialaxis\": {\"gridcolor\": \"white\", \"linecolor\": \"white\", \"ticks\": \"\"}}, \"scene\": {\"xaxis\": {\"backgroundcolor\": \"#E5ECF6\", \"gridcolor\": \"white\", \"gridwidth\": 2, \"linecolor\": \"white\", \"showbackground\": true, \"ticks\": \"\", \"zerolinecolor\": \"white\"}, \"yaxis\": {\"backgroundcolor\": \"#E5ECF6\", \"gridcolor\": \"white\", \"gridwidth\": 2, \"linecolor\": \"white\", \"showbackground\": true, \"ticks\": \"\", \"zerolinecolor\": \"white\"}, \"zaxis\": {\"backgroundcolor\": \"#E5ECF6\", \"gridcolor\": \"white\", \"gridwidth\": 2, \"linecolor\": \"white\", \"showbackground\": true, \"ticks\": \"\", \"zerolinecolor\": \"white\"}}, \"shapedefaults\": {\"line\": {\"color\": \"#2a3f5f\"}}, \"ternary\": {\"aaxis\": {\"gridcolor\": \"white\", \"linecolor\": \"white\", \"ticks\": \"\"}, \"baxis\": {\"gridcolor\": \"white\", \"linecolor\": \"white\", \"ticks\": \"\"}, \"bgcolor\": \"#E5ECF6\", \"caxis\": {\"gridcolor\": \"white\", \"linecolor\": \"white\", \"ticks\": \"\"}}, \"title\": {\"x\": 0.05}, \"xaxis\": {\"automargin\": true, \"gridcolor\": \"white\", \"linecolor\": \"white\", \"ticks\": \"\", \"title\": {\"standoff\": 15}, \"zerolinecolor\": \"white\", \"zerolinewidth\": 2}, \"yaxis\": {\"automargin\": true, \"gridcolor\": \"white\", \"linecolor\": \"white\", \"ticks\": \"\", \"title\": {\"standoff\": 15}, \"zerolinecolor\": \"white\", \"zerolinewidth\": 2}}}},\n",
       "                        {\"responsive\": true}\n",
       "                    ).then(function(){\n",
       "                            \n",
       "var gd = document.getElementById('0dbf3971-154c-4ab8-a673-175e7edae463');\n",
       "var x = new MutationObserver(function (mutations, observer) {{\n",
       "        var display = window.getComputedStyle(gd).display;\n",
       "        if (!display || display === 'none') {{\n",
       "            console.log([gd, 'removed!']);\n",
       "            Plotly.purge(gd);\n",
       "            observer.disconnect();\n",
       "        }}\n",
       "}});\n",
       "\n",
       "// Listen for the removal of the full notebook cells\n",
       "var notebookContainer = gd.closest('#notebook-container');\n",
       "if (notebookContainer) {{\n",
       "    x.observe(notebookContainer, {childList: true});\n",
       "}}\n",
       "\n",
       "// Listen for the clearing of the current output cell\n",
       "var outputEl = gd.closest('.output');\n",
       "if (outputEl) {{\n",
       "    x.observe(outputEl, {childList: true});\n",
       "}}\n",
       "\n",
       "                        })\n",
       "                };\n",
       "                });\n",
       "            </script>\n",
       "        </div>"
      ]
     },
     "metadata": {},
     "output_type": "display_data"
    }
   ],
   "source": [
    "# Initialize Plotly figure\n",
    "fig = go.Figure()\n",
    "\n",
    "# The fundamental building block of a Plotly graph is traces.\n",
    "# Traces will define what kinds of objects you want to draw onto the canvas. \n",
    "# In this case, we want to draw a \"Scatterternary\" object\n",
    "# You already see that everything is extremely declarative and written out in dictionary notation\n",
    "fig.add_trace(go.Scatterternary(\n",
    "    {\n",
    "    'name': 'Team 1 Scoring', # The identifying label of our trace\n",
    "    'mode': 'markers', # Specify that we're plotting individual markers\n",
    "    'a': [i for i in map(lambda x: x['Guards'], datatm1)], # What's the first component axis that we want to plot?\n",
    "    'b': [i for i in map(lambda x: x['Bigs'], datatm1)], # Second component axis\n",
    "    'c': [i for i in map(lambda x: x['Wings'], datatm1)], # Third component axis\n",
    "    \n",
    "    # Let's stylize our marker\n",
    "    'marker': \n",
    "        {\n",
    "        'symbol': 100, # Defines that the marker will be a circle with no fill; default is a filled circle\n",
    "        'color': '#DB7365', # Sets the color of the marker\n",
    "        'size': 14, # Sets the size of the marker\n",
    "        'line': {'width': 2} # Defines the marker's outline\n",
    "        }\n",
    "    }\n",
    "))\n",
    "\n",
    "# Show figure\n",
    "fig.show() "
   ]
  },
  {
   "cell_type": "code",
   "execution_count": 5,
   "metadata": {},
   "outputs": [
    {
     "data": {
      "application/vnd.plotly.v1+json": {
       "config": {
        "plotlyServerURL": "https://plot.ly"
       },
       "data": [
        {
         "a": [
          0.543859649122807,
          0.6022727272727273,
          0.5431034482758621,
          0.4819277108433735,
          0.6464646464646465,
          0.4310344827586207,
          0.5964912280701754,
          0.3783783783783784,
          0.5363636363636364,
          0.4705882352941176,
          0.5511811023622047,
          0.5514018691588785,
          0.487603305785124,
          0.4019607843137255,
          0.5203252032520326,
          0.5564516129032258,
          0.5360824742268041,
          0.5285714285714286,
          0.6311475409836066,
          0.6194690265486725,
          0.456140350877193,
          0.5490196078431373,
          0.5306122448979592,
          0.5714285714285714,
          0.5289256198347108,
          0.5132743362831859,
          0.5490196078431373,
          0.44545454545454544,
          0.5462184873949579,
          0.5849056603773585,
          0.6931818181818182,
          0.5784313725490197,
          0.5196078431372549,
          0.5408163265306123,
          0.4137931034482759,
          0.3181818181818182,
          0.5963302752293578,
          0.6956521739130435,
          0.6698113207547169,
          0.5408163265306123,
          0.6285714285714286,
          0.5486725663716814,
          0.4916666666666666,
          0.4554455445544554,
          0.5306122448979592,
          0.6695652173913044,
          0.6454545454545455,
          0.3877551020408163,
          0.5,
          0.5416666666666666,
          0.4901960784313725,
          0.5045871559633027,
          0.3697478991596639,
          0.5514018691588785,
          0.4204545454545455,
          0.4444444444444444,
          0.5575221238938053,
          0.4742268041237113,
          0.3709677419354839,
          0.5922330097087378,
          0.5148514851485149,
          0.6039603960396039,
          0.5258620689655172,
          0.4395604395604396,
          0.6929824561403509,
          0.5535714285714286,
          0.7314814814814815,
          0.4166666666666667,
          0.5526315789473685,
          0.4537037037037037,
          0.5263157894736842,
          0.6616541353383458,
          0.4842105263157895,
          0.6203703703703703,
          0.4329896907216495,
          0.556390977443609,
          0.5131578947368421,
          0.4956521739130435,
          0.4732142857142857,
          0.4897959183673469,
          0.408,
          0.4521739130434783,
          0.4631578947368421,
          0.404040404040404,
          0.5405405405405406
         ],
         "b": [
          0.42105263157894735,
          0.3295454545454545,
          0.4137931034482759,
          0.4939759036144578,
          0.2929292929292929,
          0.4396551724137931,
          0.2982456140350877,
          0.5225225225225225,
          0.3727272727272728,
          0.4033613445378152,
          0.3622047244094488,
          0.41121495327102797,
          0.4049586776859504,
          0.4705882352941176,
          0.3983739837398374,
          0.3870967741935484,
          0.4020618556701031,
          0.37142857142857133,
          0.2704918032786885,
          0.26548672566371684,
          0.3684210526315789,
          0.38235294117647056,
          0.3775510204081632,
          0.2706766917293233,
          0.3636363636363637,
          0.4690265486725664,
          0.392156862745098,
          0.4818181818181818,
          0.2605042016806723,
          0.2735849056603773,
          0.2159090909090909,
          0.29411764705882354,
          0.3137254901960784,
          0.3163265306122449,
          0.3706896551724138,
          0.5113636363636364,
          0.2568807339449541,
          0.2,
          0.2547169811320755,
          0.3877551020408163,
          0.24761904761904766,
          0.3274336283185841,
          0.43333333333333335,
          0.4455445544554456,
          0.3673469387755102,
          0.14782608695652175,
          0.3363636363636364,
          0.4693877551020408,
          0.41935483870967744,
          0.4583333333333333,
          0.392156862745098,
          0.4770642201834863,
          0.5798319327731093,
          0.29906542056074764,
          0.4886363636363637,
          0.3636363636363637,
          0.4070796460176992,
          0.5257731958762887,
          0.5483870967741935,
          0.2815533980582524,
          0.3960396039603961,
          0.25742574257425743,
          0.4224137931034483,
          0.5384615384615384,
          0.2719298245614035,
          0.4017857142857143,
          0.21296296296296294,
          0.46875,
          0.21929824561403508,
          0.462962962962963,
          0.42105263157894735,
          0.3308270676691729,
          0.4631578947368421,
          0.3055555555555556,
          0.4948453608247423,
          0.40601503759398494,
          0.32894736842105265,
          0.4434782608695652,
          0.4642857142857143,
          0.4081632653061225,
          0.376,
          0.40869565217391307,
          0.4631578947368421,
          0.494949494949495,
          0.32432432432432434
         ],
         "c": [
          0.03508771929824561,
          0.06818181818181818,
          0.04310344827586207,
          0.024096385542168683,
          0.060606060606060615,
          0.12931034482758622,
          0.10526315789473684,
          0.0990990990990991,
          0.09090909090909093,
          0.12605042016806722,
          0.08661417322834647,
          0.037383177570093455,
          0.10743801652892562,
          0.12745098039215685,
          0.08130081300813008,
          0.05645161290322581,
          0.061855670103092786,
          0.1,
          0.09836065573770493,
          0.11504424778761063,
          0.17543859649122806,
          0.06862745098039216,
          0.09183673469387756,
          0.15789473684210525,
          0.10743801652892562,
          0.017699115044247787,
          0.05882352941176471,
          0.07272727272727272,
          0.19327731092436976,
          0.14150943396226415,
          0.09090909090909093,
          0.12745098039215685,
          0.16666666666666666,
          0.14285714285714285,
          0.21551724137931036,
          0.17045454545454544,
          0.14678899082568808,
          0.10434782608695653,
          0.07547169811320754,
          0.07142857142857142,
          0.1238095238095238,
          0.12389380530973453,
          0.075,
          0.099009900990099,
          0.1020408163265306,
          0.1826086956521739,
          0.01818181818181818,
          0.14285714285714285,
          0.08064516129032258,
          0,
          0.1176470588235294,
          0.01834862385321101,
          0.050420168067226885,
          0.14953271028037382,
          0.09090909090909093,
          0.1919191919191919,
          0.035398230088495575,
          0,
          0.08064516129032258,
          0.1262135922330097,
          0.0891089108910891,
          0.13861386138613865,
          0.05172413793103448,
          0.02197802197802198,
          0.03508771929824561,
          0.04464285714285714,
          0.05555555555555555,
          0.11458333333333333,
          0.2280701754385965,
          0.08333333333333333,
          0.05263157894736842,
          0.0075187969924812035,
          0.05263157894736842,
          0.07407407407407407,
          0.07216494845360824,
          0.03759398496240601,
          0.15789473684210525,
          0.060869565217391314,
          0.0625,
          0.1020408163265306,
          0.21600000000000003,
          0.1391304347826087,
          0.07368421052631577,
          0.101010101010101,
          0.13513513513513514
         ],
         "marker": {
          "color": "#DB7365",
          "line": {
           "width": 2
          },
          "size": 14,
          "symbol": 100
         },
         "mode": "markers",
         "name": "Team 1 Scoring",
         "type": "scatterternary"
        },
        {
         "a": [
          0.5663716814159292,
          0.4245283018867925,
          0.5217391304347826,
          0.4519230769230769,
          0.4434782608695652,
          0.5142857142857142,
          0.56,
          0.6209677419354839,
          0.4,
          0.5491803278688525,
          0.4732142857142857,
          0.4772727272727273,
          0.4220183486238532,
          0.5643564356435643,
          0.4496124031007752,
          0.36893203883495146,
          0.536,
          0.42857142857142855,
          0.4824561403508772,
          0.3969465648854962,
          0.3636363636363637,
          0.4821428571428572,
          0.4953271028037383,
          0.5,
          0.6036036036036037,
          0.4083333333333333,
          0.32456140350877194,
          0.525,
          0.4777777777777778,
          0.5371900826446281,
          0.5473684210526316,
          0.3555555555555556,
          0.42857142857142855,
          0.2549019607843137,
          0.425531914893617,
          0.4842105263157895,
          0.3504273504273504,
          0.4067796610169492,
          0.4435483870967742,
          0.4351851851851852,
          0.4019607843137255,
          0.5779816513761468,
          0.3960396039603961,
          0.4588235294117647,
          0.5,
          0.4960629921259842,
          0.5047619047619047,
          0.4732142857142857,
          0.4234234234234234,
          0.43478260869565216,
          0.3942307692307692,
          0.4848484848484849,
          0.5350877192982456,
          0.4774774774774775,
          0.5096153846153846,
          0.5113636363636364,
          0.5803571428571429,
          0.4528301886792453,
          0.5221238938053098,
          0.4649122807017544,
          0.4076923076923077,
          0.35714285714285715,
          0.4298245614035088,
          0.5403225806451613,
          0.6153846153846154,
          0.6753246753246753,
          0.6090909090909091,
          0.4336283185840708,
          0.5826086956521739,
          0.5777777777777777,
          0.4545454545454545,
          0.5535714285714286,
          0.3608247422680412,
          0.4754098360655738,
          0.3675213675213676,
          0.4722222222222222,
          0.3853211009174312,
          0.5287356321839081,
          0.3809523809523809,
          0.6930693069306929,
          0.494949494949495,
          0.54,
          0.7431192660550459,
          0.4691358024691358
         ],
         "b": [
          0.16814159292035402,
          0.2169811320754717,
          0.17391304347826084,
          0.1153846153846154,
          0.1565217391304348,
          0.2,
          0.12,
          0.13709677419354838,
          0.1875,
          0.19672131147540986,
          0.21428571428571427,
          0.20454545454545456,
          0.1834862385321101,
          0.19801980198019806,
          0.2015503875968992,
          0.3106796116504854,
          0.22399999999999998,
          0.3025210084033613,
          0.17543859649122806,
          0.2137404580152672,
          0.21212121212121213,
          0.15178571428571427,
          0.19626168224299065,
          0.16279069767441862,
          0.21621621621621626,
          0.225,
          0.32456140350877194,
          0.25,
          0.18888888888888888,
          0.2975206611570248,
          0.16842105263157894,
          0.37777777777777777,
          0.1978021978021978,
          0.3137254901960784,
          0.18085106382978725,
          0.18947368421052632,
          0.21367521367521367,
          0.1694915254237288,
          0.1129032258064516,
          0.17592592592592593,
          0.09803921568627452,
          0.14678899082568808,
          0.2673267326732673,
          0.2,
          0.2826086956521739,
          0.2755905511811024,
          0.2571428571428571,
          0.14285714285714285,
          0.1891891891891892,
          0.2,
          0.17307692307692307,
          0.202020202020202,
          0.15789473684210525,
          0.14414414414414414,
          0.1346153846153846,
          0.3409090909090909,
          0.25,
          0.16981132075471694,
          0.2743362831858407,
          0.2280701754385965,
          0.2153846153846154,
          0.31746031746031744,
          0.30701754385964913,
          0.13709677419354838,
          0.19230769230769232,
          0.18181818181818185,
          0.2545454545454545,
          0.21238938053097345,
          0.2782608695652174,
          0.2111111111111111,
          0.20909090909090908,
          0.17857142857142858,
          0.25773195876288657,
          0.319672131147541,
          0.21367521367521367,
          0.20833333333333331,
          0.11009174311926606,
          0.1264367816091954,
          0.10476190476190476,
          0.10891089108910892,
          0.2525252525252525,
          0.19,
          0.01834862385321101,
          0.061728395061728385
         ],
         "c": [
          0.26548672566371684,
          0.3584905660377358,
          0.3043478260869565,
          0.4326923076923077,
          0.4,
          0.2857142857142857,
          0.32,
          0.2419354838709677,
          0.4125,
          0.2540983606557377,
          0.3125,
          0.3181818181818182,
          0.3944954128440367,
          0.2376237623762376,
          0.3488372093023256,
          0.32038834951456313,
          0.24,
          0.2689075630252101,
          0.34210526315789475,
          0.3893129770992366,
          0.42424242424242425,
          0.36607142857142855,
          0.308411214953271,
          0.3372093023255814,
          0.18018018018018014,
          0.36666666666666653,
          0.3508771929824561,
          0.225,
          0.3333333333333333,
          0.1652892561983471,
          0.2842105263157895,
          0.26666666666666666,
          0.3736263736263736,
          0.4313725490196079,
          0.39361702127659576,
          0.3263157894736842,
          0.4358974358974359,
          0.42372881355932196,
          0.4435483870967742,
          0.3888888888888889,
          0.5,
          0.27522935779816515,
          0.33663366336633666,
          0.3411764705882353,
          0.21739130434782608,
          0.2283464566929134,
          0.2380952380952381,
          0.38392857142857145,
          0.38738738738738737,
          0.3652173913043478,
          0.4326923076923077,
          0.31313131313131315,
          0.30701754385964913,
          0.3783783783783784,
          0.3557692307692308,
          0.14772727272727273,
          0.16964285714285715,
          0.37735849056603776,
          0.2035398230088496,
          0.30701754385964913,
          0.3769230769230769,
          0.3253968253968254,
          0.2631578947368421,
          0.3225806451612903,
          0.19230769230769232,
          0.14285714285714285,
          0.13636363636363635,
          0.3539823008849557,
          0.1391304347826087,
          0.2111111111111111,
          0.3363636363636364,
          0.26785714285714285,
          0.38144329896907214,
          0.20491803278688525,
          0.4188034188034188,
          0.3194444444444444,
          0.5045871559633027,
          0.3448275862068966,
          0.5142857142857142,
          0.19801980198019806,
          0.2525252525252525,
          0.27,
          0.23853211009174316,
          0.4691358024691358
         ],
         "marker": {
          "color": "#44D500",
          "opacity": 0.4,
          "size": 14
         },
         "mode": "markers",
         "name": "Team 2 Scoring",
         "type": "scatterternary"
        }
       ],
       "layout": {
        "template": {
         "data": {
          "bar": [
           {
            "error_x": {
             "color": "#2a3f5f"
            },
            "error_y": {
             "color": "#2a3f5f"
            },
            "marker": {
             "line": {
              "color": "#E5ECF6",
              "width": 0.5
             }
            },
            "type": "bar"
           }
          ],
          "barpolar": [
           {
            "marker": {
             "line": {
              "color": "#E5ECF6",
              "width": 0.5
             }
            },
            "type": "barpolar"
           }
          ],
          "carpet": [
           {
            "aaxis": {
             "endlinecolor": "#2a3f5f",
             "gridcolor": "white",
             "linecolor": "white",
             "minorgridcolor": "white",
             "startlinecolor": "#2a3f5f"
            },
            "baxis": {
             "endlinecolor": "#2a3f5f",
             "gridcolor": "white",
             "linecolor": "white",
             "minorgridcolor": "white",
             "startlinecolor": "#2a3f5f"
            },
            "type": "carpet"
           }
          ],
          "choropleth": [
           {
            "colorbar": {
             "outlinewidth": 0,
             "ticks": ""
            },
            "type": "choropleth"
           }
          ],
          "contour": [
           {
            "colorbar": {
             "outlinewidth": 0,
             "ticks": ""
            },
            "colorscale": [
             [
              0,
              "#0d0887"
             ],
             [
              0.1111111111111111,
              "#46039f"
             ],
             [
              0.2222222222222222,
              "#7201a8"
             ],
             [
              0.3333333333333333,
              "#9c179e"
             ],
             [
              0.4444444444444444,
              "#bd3786"
             ],
             [
              0.5555555555555556,
              "#d8576b"
             ],
             [
              0.6666666666666666,
              "#ed7953"
             ],
             [
              0.7777777777777778,
              "#fb9f3a"
             ],
             [
              0.8888888888888888,
              "#fdca26"
             ],
             [
              1,
              "#f0f921"
             ]
            ],
            "type": "contour"
           }
          ],
          "contourcarpet": [
           {
            "colorbar": {
             "outlinewidth": 0,
             "ticks": ""
            },
            "type": "contourcarpet"
           }
          ],
          "heatmap": [
           {
            "colorbar": {
             "outlinewidth": 0,
             "ticks": ""
            },
            "colorscale": [
             [
              0,
              "#0d0887"
             ],
             [
              0.1111111111111111,
              "#46039f"
             ],
             [
              0.2222222222222222,
              "#7201a8"
             ],
             [
              0.3333333333333333,
              "#9c179e"
             ],
             [
              0.4444444444444444,
              "#bd3786"
             ],
             [
              0.5555555555555556,
              "#d8576b"
             ],
             [
              0.6666666666666666,
              "#ed7953"
             ],
             [
              0.7777777777777778,
              "#fb9f3a"
             ],
             [
              0.8888888888888888,
              "#fdca26"
             ],
             [
              1,
              "#f0f921"
             ]
            ],
            "type": "heatmap"
           }
          ],
          "heatmapgl": [
           {
            "colorbar": {
             "outlinewidth": 0,
             "ticks": ""
            },
            "colorscale": [
             [
              0,
              "#0d0887"
             ],
             [
              0.1111111111111111,
              "#46039f"
             ],
             [
              0.2222222222222222,
              "#7201a8"
             ],
             [
              0.3333333333333333,
              "#9c179e"
             ],
             [
              0.4444444444444444,
              "#bd3786"
             ],
             [
              0.5555555555555556,
              "#d8576b"
             ],
             [
              0.6666666666666666,
              "#ed7953"
             ],
             [
              0.7777777777777778,
              "#fb9f3a"
             ],
             [
              0.8888888888888888,
              "#fdca26"
             ],
             [
              1,
              "#f0f921"
             ]
            ],
            "type": "heatmapgl"
           }
          ],
          "histogram": [
           {
            "marker": {
             "colorbar": {
              "outlinewidth": 0,
              "ticks": ""
             }
            },
            "type": "histogram"
           }
          ],
          "histogram2d": [
           {
            "colorbar": {
             "outlinewidth": 0,
             "ticks": ""
            },
            "colorscale": [
             [
              0,
              "#0d0887"
             ],
             [
              0.1111111111111111,
              "#46039f"
             ],
             [
              0.2222222222222222,
              "#7201a8"
             ],
             [
              0.3333333333333333,
              "#9c179e"
             ],
             [
              0.4444444444444444,
              "#bd3786"
             ],
             [
              0.5555555555555556,
              "#d8576b"
             ],
             [
              0.6666666666666666,
              "#ed7953"
             ],
             [
              0.7777777777777778,
              "#fb9f3a"
             ],
             [
              0.8888888888888888,
              "#fdca26"
             ],
             [
              1,
              "#f0f921"
             ]
            ],
            "type": "histogram2d"
           }
          ],
          "histogram2dcontour": [
           {
            "colorbar": {
             "outlinewidth": 0,
             "ticks": ""
            },
            "colorscale": [
             [
              0,
              "#0d0887"
             ],
             [
              0.1111111111111111,
              "#46039f"
             ],
             [
              0.2222222222222222,
              "#7201a8"
             ],
             [
              0.3333333333333333,
              "#9c179e"
             ],
             [
              0.4444444444444444,
              "#bd3786"
             ],
             [
              0.5555555555555556,
              "#d8576b"
             ],
             [
              0.6666666666666666,
              "#ed7953"
             ],
             [
              0.7777777777777778,
              "#fb9f3a"
             ],
             [
              0.8888888888888888,
              "#fdca26"
             ],
             [
              1,
              "#f0f921"
             ]
            ],
            "type": "histogram2dcontour"
           }
          ],
          "mesh3d": [
           {
            "colorbar": {
             "outlinewidth": 0,
             "ticks": ""
            },
            "type": "mesh3d"
           }
          ],
          "parcoords": [
           {
            "line": {
             "colorbar": {
              "outlinewidth": 0,
              "ticks": ""
             }
            },
            "type": "parcoords"
           }
          ],
          "pie": [
           {
            "automargin": true,
            "type": "pie"
           }
          ],
          "scatter": [
           {
            "marker": {
             "colorbar": {
              "outlinewidth": 0,
              "ticks": ""
             }
            },
            "type": "scatter"
           }
          ],
          "scatter3d": [
           {
            "line": {
             "colorbar": {
              "outlinewidth": 0,
              "ticks": ""
             }
            },
            "marker": {
             "colorbar": {
              "outlinewidth": 0,
              "ticks": ""
             }
            },
            "type": "scatter3d"
           }
          ],
          "scattercarpet": [
           {
            "marker": {
             "colorbar": {
              "outlinewidth": 0,
              "ticks": ""
             }
            },
            "type": "scattercarpet"
           }
          ],
          "scattergeo": [
           {
            "marker": {
             "colorbar": {
              "outlinewidth": 0,
              "ticks": ""
             }
            },
            "type": "scattergeo"
           }
          ],
          "scattergl": [
           {
            "marker": {
             "colorbar": {
              "outlinewidth": 0,
              "ticks": ""
             }
            },
            "type": "scattergl"
           }
          ],
          "scattermapbox": [
           {
            "marker": {
             "colorbar": {
              "outlinewidth": 0,
              "ticks": ""
             }
            },
            "type": "scattermapbox"
           }
          ],
          "scatterpolar": [
           {
            "marker": {
             "colorbar": {
              "outlinewidth": 0,
              "ticks": ""
             }
            },
            "type": "scatterpolar"
           }
          ],
          "scatterpolargl": [
           {
            "marker": {
             "colorbar": {
              "outlinewidth": 0,
              "ticks": ""
             }
            },
            "type": "scatterpolargl"
           }
          ],
          "scatterternary": [
           {
            "marker": {
             "colorbar": {
              "outlinewidth": 0,
              "ticks": ""
             }
            },
            "type": "scatterternary"
           }
          ],
          "surface": [
           {
            "colorbar": {
             "outlinewidth": 0,
             "ticks": ""
            },
            "colorscale": [
             [
              0,
              "#0d0887"
             ],
             [
              0.1111111111111111,
              "#46039f"
             ],
             [
              0.2222222222222222,
              "#7201a8"
             ],
             [
              0.3333333333333333,
              "#9c179e"
             ],
             [
              0.4444444444444444,
              "#bd3786"
             ],
             [
              0.5555555555555556,
              "#d8576b"
             ],
             [
              0.6666666666666666,
              "#ed7953"
             ],
             [
              0.7777777777777778,
              "#fb9f3a"
             ],
             [
              0.8888888888888888,
              "#fdca26"
             ],
             [
              1,
              "#f0f921"
             ]
            ],
            "type": "surface"
           }
          ],
          "table": [
           {
            "cells": {
             "fill": {
              "color": "#EBF0F8"
             },
             "line": {
              "color": "white"
             }
            },
            "header": {
             "fill": {
              "color": "#C8D4E3"
             },
             "line": {
              "color": "white"
             }
            },
            "type": "table"
           }
          ]
         },
         "layout": {
          "annotationdefaults": {
           "arrowcolor": "#2a3f5f",
           "arrowhead": 0,
           "arrowwidth": 1
          },
          "coloraxis": {
           "colorbar": {
            "outlinewidth": 0,
            "ticks": ""
           }
          },
          "colorscale": {
           "diverging": [
            [
             0,
             "#8e0152"
            ],
            [
             0.1,
             "#c51b7d"
            ],
            [
             0.2,
             "#de77ae"
            ],
            [
             0.3,
             "#f1b6da"
            ],
            [
             0.4,
             "#fde0ef"
            ],
            [
             0.5,
             "#f7f7f7"
            ],
            [
             0.6,
             "#e6f5d0"
            ],
            [
             0.7,
             "#b8e186"
            ],
            [
             0.8,
             "#7fbc41"
            ],
            [
             0.9,
             "#4d9221"
            ],
            [
             1,
             "#276419"
            ]
           ],
           "sequential": [
            [
             0,
             "#0d0887"
            ],
            [
             0.1111111111111111,
             "#46039f"
            ],
            [
             0.2222222222222222,
             "#7201a8"
            ],
            [
             0.3333333333333333,
             "#9c179e"
            ],
            [
             0.4444444444444444,
             "#bd3786"
            ],
            [
             0.5555555555555556,
             "#d8576b"
            ],
            [
             0.6666666666666666,
             "#ed7953"
            ],
            [
             0.7777777777777778,
             "#fb9f3a"
            ],
            [
             0.8888888888888888,
             "#fdca26"
            ],
            [
             1,
             "#f0f921"
            ]
           ],
           "sequentialminus": [
            [
             0,
             "#0d0887"
            ],
            [
             0.1111111111111111,
             "#46039f"
            ],
            [
             0.2222222222222222,
             "#7201a8"
            ],
            [
             0.3333333333333333,
             "#9c179e"
            ],
            [
             0.4444444444444444,
             "#bd3786"
            ],
            [
             0.5555555555555556,
             "#d8576b"
            ],
            [
             0.6666666666666666,
             "#ed7953"
            ],
            [
             0.7777777777777778,
             "#fb9f3a"
            ],
            [
             0.8888888888888888,
             "#fdca26"
            ],
            [
             1,
             "#f0f921"
            ]
           ]
          },
          "colorway": [
           "#636efa",
           "#EF553B",
           "#00cc96",
           "#ab63fa",
           "#FFA15A",
           "#19d3f3",
           "#FF6692",
           "#B6E880",
           "#FF97FF",
           "#FECB52"
          ],
          "font": {
           "color": "#2a3f5f"
          },
          "geo": {
           "bgcolor": "white",
           "lakecolor": "white",
           "landcolor": "#E5ECF6",
           "showlakes": true,
           "showland": true,
           "subunitcolor": "white"
          },
          "hoverlabel": {
           "align": "left"
          },
          "hovermode": "closest",
          "mapbox": {
           "style": "light"
          },
          "paper_bgcolor": "white",
          "plot_bgcolor": "#E5ECF6",
          "polar": {
           "angularaxis": {
            "gridcolor": "white",
            "linecolor": "white",
            "ticks": ""
           },
           "bgcolor": "#E5ECF6",
           "radialaxis": {
            "gridcolor": "white",
            "linecolor": "white",
            "ticks": ""
           }
          },
          "scene": {
           "xaxis": {
            "backgroundcolor": "#E5ECF6",
            "gridcolor": "white",
            "gridwidth": 2,
            "linecolor": "white",
            "showbackground": true,
            "ticks": "",
            "zerolinecolor": "white"
           },
           "yaxis": {
            "backgroundcolor": "#E5ECF6",
            "gridcolor": "white",
            "gridwidth": 2,
            "linecolor": "white",
            "showbackground": true,
            "ticks": "",
            "zerolinecolor": "white"
           },
           "zaxis": {
            "backgroundcolor": "#E5ECF6",
            "gridcolor": "white",
            "gridwidth": 2,
            "linecolor": "white",
            "showbackground": true,
            "ticks": "",
            "zerolinecolor": "white"
           }
          },
          "shapedefaults": {
           "line": {
            "color": "#2a3f5f"
           }
          },
          "ternary": {
           "aaxis": {
            "gridcolor": "white",
            "linecolor": "white",
            "ticks": ""
           },
           "baxis": {
            "gridcolor": "white",
            "linecolor": "white",
            "ticks": ""
           },
           "bgcolor": "#E5ECF6",
           "caxis": {
            "gridcolor": "white",
            "linecolor": "white",
            "ticks": ""
           }
          },
          "title": {
           "x": 0.05
          },
          "xaxis": {
           "automargin": true,
           "gridcolor": "white",
           "linecolor": "white",
           "ticks": "",
           "title": {
            "standoff": 15
           },
           "zerolinecolor": "white",
           "zerolinewidth": 2
          },
          "yaxis": {
           "automargin": true,
           "gridcolor": "white",
           "linecolor": "white",
           "ticks": "",
           "title": {
            "standoff": 15
           },
           "zerolinecolor": "white",
           "zerolinewidth": 2
          }
         }
        }
       }
      },
      "text/html": [
       "<div>\n",
       "        \n",
       "        \n",
       "            <div id=\"5ce2bc05-0aa1-4669-89c0-96b241b9a845\" class=\"plotly-graph-div\" style=\"height:525px; width:100%;\"></div>\n",
       "            <script type=\"text/javascript\">\n",
       "                require([\"plotly\"], function(Plotly) {\n",
       "                    window.PLOTLYENV=window.PLOTLYENV || {};\n",
       "                    \n",
       "                if (document.getElementById(\"5ce2bc05-0aa1-4669-89c0-96b241b9a845\")) {\n",
       "                    Plotly.newPlot(\n",
       "                        '5ce2bc05-0aa1-4669-89c0-96b241b9a845',\n",
       "                        [{\"a\": [0.543859649122807, 0.6022727272727273, 0.5431034482758621, 0.4819277108433735, 0.6464646464646465, 0.4310344827586207, 0.5964912280701754, 0.3783783783783784, 0.5363636363636364, 0.4705882352941176, 0.5511811023622047, 0.5514018691588785, 0.487603305785124, 0.4019607843137255, 0.5203252032520326, 0.5564516129032258, 0.5360824742268041, 0.5285714285714286, 0.6311475409836066, 0.6194690265486725, 0.456140350877193, 0.5490196078431373, 0.5306122448979592, 0.5714285714285714, 0.5289256198347108, 0.5132743362831859, 0.5490196078431373, 0.44545454545454544, 0.5462184873949579, 0.5849056603773585, 0.6931818181818182, 0.5784313725490197, 0.5196078431372549, 0.5408163265306123, 0.4137931034482759, 0.3181818181818182, 0.5963302752293578, 0.6956521739130435, 0.6698113207547169, 0.5408163265306123, 0.6285714285714286, 0.5486725663716814, 0.4916666666666666, 0.4554455445544554, 0.5306122448979592, 0.6695652173913044, 0.6454545454545455, 0.3877551020408163, 0.5, 0.5416666666666666, 0.4901960784313725, 0.5045871559633027, 0.3697478991596639, 0.5514018691588785, 0.4204545454545455, 0.4444444444444444, 0.5575221238938053, 0.4742268041237113, 0.3709677419354839, 0.5922330097087378, 0.5148514851485149, 0.6039603960396039, 0.5258620689655172, 0.4395604395604396, 0.6929824561403509, 0.5535714285714286, 0.7314814814814815, 0.4166666666666667, 0.5526315789473685, 0.4537037037037037, 0.5263157894736842, 0.6616541353383458, 0.4842105263157895, 0.6203703703703703, 0.4329896907216495, 0.556390977443609, 0.5131578947368421, 0.4956521739130435, 0.4732142857142857, 0.4897959183673469, 0.408, 0.4521739130434783, 0.4631578947368421, 0.404040404040404, 0.5405405405405406], \"b\": [0.42105263157894735, 0.3295454545454545, 0.4137931034482759, 0.4939759036144578, 0.2929292929292929, 0.4396551724137931, 0.2982456140350877, 0.5225225225225225, 0.3727272727272728, 0.4033613445378152, 0.3622047244094488, 0.41121495327102797, 0.4049586776859504, 0.4705882352941176, 0.3983739837398374, 0.3870967741935484, 0.4020618556701031, 0.37142857142857133, 0.2704918032786885, 0.26548672566371684, 0.3684210526315789, 0.38235294117647056, 0.3775510204081632, 0.2706766917293233, 0.3636363636363637, 0.4690265486725664, 0.392156862745098, 0.4818181818181818, 0.2605042016806723, 0.2735849056603773, 0.2159090909090909, 0.29411764705882354, 0.3137254901960784, 0.3163265306122449, 0.3706896551724138, 0.5113636363636364, 0.2568807339449541, 0.2, 0.2547169811320755, 0.3877551020408163, 0.24761904761904766, 0.3274336283185841, 0.43333333333333335, 0.4455445544554456, 0.3673469387755102, 0.14782608695652175, 0.3363636363636364, 0.4693877551020408, 0.41935483870967744, 0.4583333333333333, 0.392156862745098, 0.4770642201834863, 0.5798319327731093, 0.29906542056074764, 0.4886363636363637, 0.3636363636363637, 0.4070796460176992, 0.5257731958762887, 0.5483870967741935, 0.2815533980582524, 0.3960396039603961, 0.25742574257425743, 0.4224137931034483, 0.5384615384615384, 0.2719298245614035, 0.4017857142857143, 0.21296296296296294, 0.46875, 0.21929824561403508, 0.462962962962963, 0.42105263157894735, 0.3308270676691729, 0.4631578947368421, 0.3055555555555556, 0.4948453608247423, 0.40601503759398494, 0.32894736842105265, 0.4434782608695652, 0.4642857142857143, 0.4081632653061225, 0.376, 0.40869565217391307, 0.4631578947368421, 0.494949494949495, 0.32432432432432434], \"c\": [0.03508771929824561, 0.06818181818181818, 0.04310344827586207, 0.024096385542168683, 0.060606060606060615, 0.12931034482758622, 0.10526315789473684, 0.0990990990990991, 0.09090909090909093, 0.12605042016806722, 0.08661417322834647, 0.037383177570093455, 0.10743801652892562, 0.12745098039215685, 0.08130081300813008, 0.05645161290322581, 0.061855670103092786, 0.1, 0.09836065573770493, 0.11504424778761063, 0.17543859649122806, 0.06862745098039216, 0.09183673469387756, 0.15789473684210525, 0.10743801652892562, 0.017699115044247787, 0.05882352941176471, 0.07272727272727272, 0.19327731092436976, 0.14150943396226415, 0.09090909090909093, 0.12745098039215685, 0.16666666666666666, 0.14285714285714285, 0.21551724137931036, 0.17045454545454544, 0.14678899082568808, 0.10434782608695653, 0.07547169811320754, 0.07142857142857142, 0.1238095238095238, 0.12389380530973453, 0.075, 0.099009900990099, 0.1020408163265306, 0.1826086956521739, 0.01818181818181818, 0.14285714285714285, 0.08064516129032258, 0.0, 0.1176470588235294, 0.01834862385321101, 0.050420168067226885, 0.14953271028037382, 0.09090909090909093, 0.1919191919191919, 0.035398230088495575, 0.0, 0.08064516129032258, 0.1262135922330097, 0.0891089108910891, 0.13861386138613865, 0.05172413793103448, 0.02197802197802198, 0.03508771929824561, 0.04464285714285714, 0.05555555555555555, 0.11458333333333333, 0.2280701754385965, 0.08333333333333333, 0.05263157894736842, 0.0075187969924812035, 0.05263157894736842, 0.07407407407407407, 0.07216494845360824, 0.03759398496240601, 0.15789473684210525, 0.060869565217391314, 0.0625, 0.1020408163265306, 0.21600000000000003, 0.1391304347826087, 0.07368421052631577, 0.101010101010101, 0.13513513513513514], \"marker\": {\"color\": \"#DB7365\", \"line\": {\"width\": 2}, \"size\": 14, \"symbol\": 100}, \"mode\": \"markers\", \"name\": \"Team 1 Scoring\", \"type\": \"scatterternary\"}, {\"a\": [0.5663716814159292, 0.4245283018867925, 0.5217391304347826, 0.4519230769230769, 0.4434782608695652, 0.5142857142857142, 0.56, 0.6209677419354839, 0.4, 0.5491803278688525, 0.4732142857142857, 0.4772727272727273, 0.4220183486238532, 0.5643564356435643, 0.4496124031007752, 0.36893203883495146, 0.536, 0.42857142857142855, 0.4824561403508772, 0.3969465648854962, 0.3636363636363637, 0.4821428571428572, 0.4953271028037383, 0.5, 0.6036036036036037, 0.4083333333333333, 0.32456140350877194, 0.525, 0.4777777777777778, 0.5371900826446281, 0.5473684210526316, 0.3555555555555556, 0.42857142857142855, 0.2549019607843137, 0.425531914893617, 0.4842105263157895, 0.3504273504273504, 0.4067796610169492, 0.4435483870967742, 0.4351851851851852, 0.4019607843137255, 0.5779816513761468, 0.3960396039603961, 0.4588235294117647, 0.5, 0.4960629921259842, 0.5047619047619047, 0.4732142857142857, 0.4234234234234234, 0.43478260869565216, 0.3942307692307692, 0.4848484848484849, 0.5350877192982456, 0.4774774774774775, 0.5096153846153846, 0.5113636363636364, 0.5803571428571429, 0.4528301886792453, 0.5221238938053098, 0.4649122807017544, 0.4076923076923077, 0.35714285714285715, 0.4298245614035088, 0.5403225806451613, 0.6153846153846154, 0.6753246753246753, 0.6090909090909091, 0.4336283185840708, 0.5826086956521739, 0.5777777777777777, 0.4545454545454545, 0.5535714285714286, 0.3608247422680412, 0.4754098360655738, 0.3675213675213676, 0.4722222222222222, 0.3853211009174312, 0.5287356321839081, 0.3809523809523809, 0.6930693069306929, 0.494949494949495, 0.54, 0.7431192660550459, 0.4691358024691358], \"b\": [0.16814159292035402, 0.2169811320754717, 0.17391304347826084, 0.1153846153846154, 0.1565217391304348, 0.2, 0.12, 0.13709677419354838, 0.1875, 0.19672131147540986, 0.21428571428571427, 0.20454545454545456, 0.1834862385321101, 0.19801980198019806, 0.2015503875968992, 0.3106796116504854, 0.22399999999999998, 0.3025210084033613, 0.17543859649122806, 0.2137404580152672, 0.21212121212121213, 0.15178571428571427, 0.19626168224299065, 0.16279069767441862, 0.21621621621621626, 0.225, 0.32456140350877194, 0.25, 0.18888888888888888, 0.2975206611570248, 0.16842105263157894, 0.37777777777777777, 0.1978021978021978, 0.3137254901960784, 0.18085106382978725, 0.18947368421052632, 0.21367521367521367, 0.1694915254237288, 0.1129032258064516, 0.17592592592592593, 0.09803921568627452, 0.14678899082568808, 0.2673267326732673, 0.2, 0.2826086956521739, 0.2755905511811024, 0.2571428571428571, 0.14285714285714285, 0.1891891891891892, 0.2, 0.17307692307692307, 0.202020202020202, 0.15789473684210525, 0.14414414414414414, 0.1346153846153846, 0.3409090909090909, 0.25, 0.16981132075471694, 0.2743362831858407, 0.2280701754385965, 0.2153846153846154, 0.31746031746031744, 0.30701754385964913, 0.13709677419354838, 0.19230769230769232, 0.18181818181818185, 0.2545454545454545, 0.21238938053097345, 0.2782608695652174, 0.2111111111111111, 0.20909090909090908, 0.17857142857142858, 0.25773195876288657, 0.319672131147541, 0.21367521367521367, 0.20833333333333331, 0.11009174311926606, 0.1264367816091954, 0.10476190476190476, 0.10891089108910892, 0.2525252525252525, 0.19, 0.01834862385321101, 0.061728395061728385], \"c\": [0.26548672566371684, 0.3584905660377358, 0.3043478260869565, 0.4326923076923077, 0.4, 0.2857142857142857, 0.32, 0.2419354838709677, 0.4125, 0.2540983606557377, 0.3125, 0.3181818181818182, 0.3944954128440367, 0.2376237623762376, 0.3488372093023256, 0.32038834951456313, 0.24, 0.2689075630252101, 0.34210526315789475, 0.3893129770992366, 0.42424242424242425, 0.36607142857142855, 0.308411214953271, 0.3372093023255814, 0.18018018018018014, 0.36666666666666653, 0.3508771929824561, 0.225, 0.3333333333333333, 0.1652892561983471, 0.2842105263157895, 0.26666666666666666, 0.3736263736263736, 0.4313725490196079, 0.39361702127659576, 0.3263157894736842, 0.4358974358974359, 0.42372881355932196, 0.4435483870967742, 0.3888888888888889, 0.5, 0.27522935779816515, 0.33663366336633666, 0.3411764705882353, 0.21739130434782608, 0.2283464566929134, 0.2380952380952381, 0.38392857142857145, 0.38738738738738737, 0.3652173913043478, 0.4326923076923077, 0.31313131313131315, 0.30701754385964913, 0.3783783783783784, 0.3557692307692308, 0.14772727272727273, 0.16964285714285715, 0.37735849056603776, 0.2035398230088496, 0.30701754385964913, 0.3769230769230769, 0.3253968253968254, 0.2631578947368421, 0.3225806451612903, 0.19230769230769232, 0.14285714285714285, 0.13636363636363635, 0.3539823008849557, 0.1391304347826087, 0.2111111111111111, 0.3363636363636364, 0.26785714285714285, 0.38144329896907214, 0.20491803278688525, 0.4188034188034188, 0.3194444444444444, 0.5045871559633027, 0.3448275862068966, 0.5142857142857142, 0.19801980198019806, 0.2525252525252525, 0.27, 0.23853211009174316, 0.4691358024691358], \"marker\": {\"color\": \"#44D500\", \"opacity\": 0.4, \"size\": 14}, \"mode\": \"markers\", \"name\": \"Team 2 Scoring\", \"type\": \"scatterternary\"}],\n",
       "                        {\"template\": {\"data\": {\"bar\": [{\"error_x\": {\"color\": \"#2a3f5f\"}, \"error_y\": {\"color\": \"#2a3f5f\"}, \"marker\": {\"line\": {\"color\": \"#E5ECF6\", \"width\": 0.5}}, \"type\": \"bar\"}], \"barpolar\": [{\"marker\": {\"line\": {\"color\": \"#E5ECF6\", \"width\": 0.5}}, \"type\": \"barpolar\"}], \"carpet\": [{\"aaxis\": {\"endlinecolor\": \"#2a3f5f\", \"gridcolor\": \"white\", \"linecolor\": \"white\", \"minorgridcolor\": \"white\", \"startlinecolor\": \"#2a3f5f\"}, \"baxis\": {\"endlinecolor\": \"#2a3f5f\", \"gridcolor\": \"white\", \"linecolor\": \"white\", \"minorgridcolor\": \"white\", \"startlinecolor\": \"#2a3f5f\"}, \"type\": \"carpet\"}], \"choropleth\": [{\"colorbar\": {\"outlinewidth\": 0, \"ticks\": \"\"}, \"type\": \"choropleth\"}], \"contour\": [{\"colorbar\": {\"outlinewidth\": 0, \"ticks\": \"\"}, \"colorscale\": [[0.0, \"#0d0887\"], [0.1111111111111111, \"#46039f\"], [0.2222222222222222, \"#7201a8\"], [0.3333333333333333, \"#9c179e\"], [0.4444444444444444, \"#bd3786\"], [0.5555555555555556, \"#d8576b\"], [0.6666666666666666, \"#ed7953\"], [0.7777777777777778, \"#fb9f3a\"], [0.8888888888888888, \"#fdca26\"], [1.0, \"#f0f921\"]], \"type\": \"contour\"}], \"contourcarpet\": [{\"colorbar\": {\"outlinewidth\": 0, \"ticks\": \"\"}, \"type\": \"contourcarpet\"}], \"heatmap\": [{\"colorbar\": {\"outlinewidth\": 0, \"ticks\": \"\"}, \"colorscale\": [[0.0, \"#0d0887\"], [0.1111111111111111, \"#46039f\"], [0.2222222222222222, \"#7201a8\"], [0.3333333333333333, \"#9c179e\"], [0.4444444444444444, \"#bd3786\"], [0.5555555555555556, \"#d8576b\"], [0.6666666666666666, \"#ed7953\"], [0.7777777777777778, \"#fb9f3a\"], [0.8888888888888888, \"#fdca26\"], [1.0, \"#f0f921\"]], \"type\": \"heatmap\"}], \"heatmapgl\": [{\"colorbar\": {\"outlinewidth\": 0, \"ticks\": \"\"}, \"colorscale\": [[0.0, \"#0d0887\"], [0.1111111111111111, \"#46039f\"], [0.2222222222222222, \"#7201a8\"], [0.3333333333333333, \"#9c179e\"], [0.4444444444444444, \"#bd3786\"], [0.5555555555555556, \"#d8576b\"], [0.6666666666666666, \"#ed7953\"], [0.7777777777777778, \"#fb9f3a\"], [0.8888888888888888, \"#fdca26\"], [1.0, \"#f0f921\"]], \"type\": \"heatmapgl\"}], \"histogram\": [{\"marker\": {\"colorbar\": {\"outlinewidth\": 0, \"ticks\": \"\"}}, \"type\": \"histogram\"}], \"histogram2d\": [{\"colorbar\": {\"outlinewidth\": 0, \"ticks\": \"\"}, \"colorscale\": [[0.0, \"#0d0887\"], [0.1111111111111111, \"#46039f\"], [0.2222222222222222, \"#7201a8\"], [0.3333333333333333, \"#9c179e\"], [0.4444444444444444, \"#bd3786\"], [0.5555555555555556, \"#d8576b\"], [0.6666666666666666, \"#ed7953\"], [0.7777777777777778, \"#fb9f3a\"], [0.8888888888888888, \"#fdca26\"], [1.0, \"#f0f921\"]], \"type\": \"histogram2d\"}], \"histogram2dcontour\": [{\"colorbar\": {\"outlinewidth\": 0, \"ticks\": \"\"}, \"colorscale\": [[0.0, \"#0d0887\"], [0.1111111111111111, \"#46039f\"], [0.2222222222222222, \"#7201a8\"], [0.3333333333333333, \"#9c179e\"], [0.4444444444444444, \"#bd3786\"], [0.5555555555555556, \"#d8576b\"], [0.6666666666666666, \"#ed7953\"], [0.7777777777777778, \"#fb9f3a\"], [0.8888888888888888, \"#fdca26\"], [1.0, \"#f0f921\"]], \"type\": \"histogram2dcontour\"}], \"mesh3d\": [{\"colorbar\": {\"outlinewidth\": 0, \"ticks\": \"\"}, \"type\": \"mesh3d\"}], \"parcoords\": [{\"line\": {\"colorbar\": {\"outlinewidth\": 0, \"ticks\": \"\"}}, \"type\": \"parcoords\"}], \"pie\": [{\"automargin\": true, \"type\": \"pie\"}], \"scatter\": [{\"marker\": {\"colorbar\": {\"outlinewidth\": 0, \"ticks\": \"\"}}, \"type\": \"scatter\"}], \"scatter3d\": [{\"line\": {\"colorbar\": {\"outlinewidth\": 0, \"ticks\": \"\"}}, \"marker\": {\"colorbar\": {\"outlinewidth\": 0, \"ticks\": \"\"}}, \"type\": \"scatter3d\"}], \"scattercarpet\": [{\"marker\": {\"colorbar\": {\"outlinewidth\": 0, \"ticks\": \"\"}}, \"type\": \"scattercarpet\"}], \"scattergeo\": [{\"marker\": {\"colorbar\": {\"outlinewidth\": 0, \"ticks\": \"\"}}, \"type\": \"scattergeo\"}], \"scattergl\": [{\"marker\": {\"colorbar\": {\"outlinewidth\": 0, \"ticks\": \"\"}}, \"type\": \"scattergl\"}], \"scattermapbox\": [{\"marker\": {\"colorbar\": {\"outlinewidth\": 0, \"ticks\": \"\"}}, \"type\": \"scattermapbox\"}], \"scatterpolar\": [{\"marker\": {\"colorbar\": {\"outlinewidth\": 0, \"ticks\": \"\"}}, \"type\": \"scatterpolar\"}], \"scatterpolargl\": [{\"marker\": {\"colorbar\": {\"outlinewidth\": 0, \"ticks\": \"\"}}, \"type\": \"scatterpolargl\"}], \"scatterternary\": [{\"marker\": {\"colorbar\": {\"outlinewidth\": 0, \"ticks\": \"\"}}, \"type\": \"scatterternary\"}], \"surface\": [{\"colorbar\": {\"outlinewidth\": 0, \"ticks\": \"\"}, \"colorscale\": [[0.0, \"#0d0887\"], [0.1111111111111111, \"#46039f\"], [0.2222222222222222, \"#7201a8\"], [0.3333333333333333, \"#9c179e\"], [0.4444444444444444, \"#bd3786\"], [0.5555555555555556, \"#d8576b\"], [0.6666666666666666, \"#ed7953\"], [0.7777777777777778, \"#fb9f3a\"], [0.8888888888888888, \"#fdca26\"], [1.0, \"#f0f921\"]], \"type\": \"surface\"}], \"table\": [{\"cells\": {\"fill\": {\"color\": \"#EBF0F8\"}, \"line\": {\"color\": \"white\"}}, \"header\": {\"fill\": {\"color\": \"#C8D4E3\"}, \"line\": {\"color\": \"white\"}}, \"type\": \"table\"}]}, \"layout\": {\"annotationdefaults\": {\"arrowcolor\": \"#2a3f5f\", \"arrowhead\": 0, \"arrowwidth\": 1}, \"coloraxis\": {\"colorbar\": {\"outlinewidth\": 0, \"ticks\": \"\"}}, \"colorscale\": {\"diverging\": [[0, \"#8e0152\"], [0.1, \"#c51b7d\"], [0.2, \"#de77ae\"], [0.3, \"#f1b6da\"], [0.4, \"#fde0ef\"], [0.5, \"#f7f7f7\"], [0.6, \"#e6f5d0\"], [0.7, \"#b8e186\"], [0.8, \"#7fbc41\"], [0.9, \"#4d9221\"], [1, \"#276419\"]], \"sequential\": [[0.0, \"#0d0887\"], [0.1111111111111111, \"#46039f\"], [0.2222222222222222, \"#7201a8\"], [0.3333333333333333, \"#9c179e\"], [0.4444444444444444, \"#bd3786\"], [0.5555555555555556, \"#d8576b\"], [0.6666666666666666, \"#ed7953\"], [0.7777777777777778, \"#fb9f3a\"], [0.8888888888888888, \"#fdca26\"], [1.0, \"#f0f921\"]], \"sequentialminus\": [[0.0, \"#0d0887\"], [0.1111111111111111, \"#46039f\"], [0.2222222222222222, \"#7201a8\"], [0.3333333333333333, \"#9c179e\"], [0.4444444444444444, \"#bd3786\"], [0.5555555555555556, \"#d8576b\"], [0.6666666666666666, \"#ed7953\"], [0.7777777777777778, \"#fb9f3a\"], [0.8888888888888888, \"#fdca26\"], [1.0, \"#f0f921\"]]}, \"colorway\": [\"#636efa\", \"#EF553B\", \"#00cc96\", \"#ab63fa\", \"#FFA15A\", \"#19d3f3\", \"#FF6692\", \"#B6E880\", \"#FF97FF\", \"#FECB52\"], \"font\": {\"color\": \"#2a3f5f\"}, \"geo\": {\"bgcolor\": \"white\", \"lakecolor\": \"white\", \"landcolor\": \"#E5ECF6\", \"showlakes\": true, \"showland\": true, \"subunitcolor\": \"white\"}, \"hoverlabel\": {\"align\": \"left\"}, \"hovermode\": \"closest\", \"mapbox\": {\"style\": \"light\"}, \"paper_bgcolor\": \"white\", \"plot_bgcolor\": \"#E5ECF6\", \"polar\": {\"angularaxis\": {\"gridcolor\": \"white\", \"linecolor\": \"white\", \"ticks\": \"\"}, \"bgcolor\": \"#E5ECF6\", \"radialaxis\": {\"gridcolor\": \"white\", \"linecolor\": \"white\", \"ticks\": \"\"}}, \"scene\": {\"xaxis\": {\"backgroundcolor\": \"#E5ECF6\", \"gridcolor\": \"white\", \"gridwidth\": 2, \"linecolor\": \"white\", \"showbackground\": true, \"ticks\": \"\", \"zerolinecolor\": \"white\"}, \"yaxis\": {\"backgroundcolor\": \"#E5ECF6\", \"gridcolor\": \"white\", \"gridwidth\": 2, \"linecolor\": \"white\", \"showbackground\": true, \"ticks\": \"\", \"zerolinecolor\": \"white\"}, \"zaxis\": {\"backgroundcolor\": \"#E5ECF6\", \"gridcolor\": \"white\", \"gridwidth\": 2, \"linecolor\": \"white\", \"showbackground\": true, \"ticks\": \"\", \"zerolinecolor\": \"white\"}}, \"shapedefaults\": {\"line\": {\"color\": \"#2a3f5f\"}}, \"ternary\": {\"aaxis\": {\"gridcolor\": \"white\", \"linecolor\": \"white\", \"ticks\": \"\"}, \"baxis\": {\"gridcolor\": \"white\", \"linecolor\": \"white\", \"ticks\": \"\"}, \"bgcolor\": \"#E5ECF6\", \"caxis\": {\"gridcolor\": \"white\", \"linecolor\": \"white\", \"ticks\": \"\"}}, \"title\": {\"x\": 0.05}, \"xaxis\": {\"automargin\": true, \"gridcolor\": \"white\", \"linecolor\": \"white\", \"ticks\": \"\", \"title\": {\"standoff\": 15}, \"zerolinecolor\": \"white\", \"zerolinewidth\": 2}, \"yaxis\": {\"automargin\": true, \"gridcolor\": \"white\", \"linecolor\": \"white\", \"ticks\": \"\", \"title\": {\"standoff\": 15}, \"zerolinecolor\": \"white\", \"zerolinewidth\": 2}}}},\n",
       "                        {\"responsive\": true}\n",
       "                    ).then(function(){\n",
       "                            \n",
       "var gd = document.getElementById('5ce2bc05-0aa1-4669-89c0-96b241b9a845');\n",
       "var x = new MutationObserver(function (mutations, observer) {{\n",
       "        var display = window.getComputedStyle(gd).display;\n",
       "        if (!display || display === 'none') {{\n",
       "            console.log([gd, 'removed!']);\n",
       "            Plotly.purge(gd);\n",
       "            observer.disconnect();\n",
       "        }}\n",
       "}});\n",
       "\n",
       "// Listen for the removal of the full notebook cells\n",
       "var notebookContainer = gd.closest('#notebook-container');\n",
       "if (notebookContainer) {{\n",
       "    x.observe(notebookContainer, {childList: true});\n",
       "}}\n",
       "\n",
       "// Listen for the clearing of the current output cell\n",
       "var outputEl = gd.closest('.output');\n",
       "if (outputEl) {{\n",
       "    x.observe(outputEl, {childList: true});\n",
       "}}\n",
       "\n",
       "                        })\n",
       "                };\n",
       "                });\n",
       "            </script>\n",
       "        </div>"
      ]
     },
     "metadata": {},
     "output_type": "display_data"
    }
   ],
   "source": [
    "# We can also plot multiple traces onto a graph\n",
    "fig = go.Figure()\n",
    "\n",
    "fig.add_trace(go.Scatterternary(\n",
    "    {\n",
    "    'name': 'Team 1 Scoring', \n",
    "    'mode': 'markers',\n",
    "    'a': [i for i in map(lambda x: x['Guards'], datatm1)], \n",
    "    'b': [i for i in map(lambda x: x['Bigs'], datatm1)],\n",
    "    'c': [i for i in map(lambda x: x['Wings'], datatm1)], \n",
    "\n",
    "    'marker': \n",
    "        {\n",
    "        'symbol': 100, \n",
    "        'color': '#DB7365', \n",
    "        'size': 14,\n",
    "        'line': {'width': 2} \n",
    "        }\n",
    "    }\n",
    "))\n",
    "\n",
    "fig.add_trace(go.Scatterternary(\n",
    "    {\n",
    "    'name': 'Team 2 Scoring',\n",
    "    'mode': 'markers',\n",
    "    'a': [i for i in map(lambda x: x['Guards'], datatm2)],\n",
    "    'b': [i for i in map(lambda x: x['Bigs'], datatm2)],\n",
    "    'c': [i for i in map(lambda x: x['Wings'], datatm2)],\n",
    "    \n",
    "    # this marker is going to be stylized slightly differently, as we're going with the default filled circle    \n",
    "    'marker': \n",
    "        {\n",
    "        'color': '#44D500',\n",
    "        'size': 14,\n",
    "        'opacity': 0.4\n",
    "        }\n",
    "    }\n",
    "))\n",
    "\n",
    "fig.show() "
   ]
  },
  {
   "cell_type": "markdown",
   "metadata": {},
   "source": [
    "### That's a good start but we can dive deeper on the layout of the actual plot"
   ]
  },
  {
   "cell_type": "code",
   "execution_count": 6,
   "metadata": {},
   "outputs": [
    {
     "data": {
      "application/vnd.plotly.v1+json": {
       "config": {
        "plotlyServerURL": "https://plot.ly"
       },
       "data": [
        {
         "a": [
          0.543859649122807,
          0.6022727272727273,
          0.5431034482758621,
          0.4819277108433735,
          0.6464646464646465,
          0.4310344827586207,
          0.5964912280701754,
          0.3783783783783784,
          0.5363636363636364,
          0.4705882352941176,
          0.5511811023622047,
          0.5514018691588785,
          0.487603305785124,
          0.4019607843137255,
          0.5203252032520326,
          0.5564516129032258,
          0.5360824742268041,
          0.5285714285714286,
          0.6311475409836066,
          0.6194690265486725,
          0.456140350877193,
          0.5490196078431373,
          0.5306122448979592,
          0.5714285714285714,
          0.5289256198347108,
          0.5132743362831859,
          0.5490196078431373,
          0.44545454545454544,
          0.5462184873949579,
          0.5849056603773585,
          0.6931818181818182,
          0.5784313725490197,
          0.5196078431372549,
          0.5408163265306123,
          0.4137931034482759,
          0.3181818181818182,
          0.5963302752293578,
          0.6956521739130435,
          0.6698113207547169,
          0.5408163265306123,
          0.6285714285714286,
          0.5486725663716814,
          0.4916666666666666,
          0.4554455445544554,
          0.5306122448979592,
          0.6695652173913044,
          0.6454545454545455,
          0.3877551020408163,
          0.5,
          0.5416666666666666,
          0.4901960784313725,
          0.5045871559633027,
          0.3697478991596639,
          0.5514018691588785,
          0.4204545454545455,
          0.4444444444444444,
          0.5575221238938053,
          0.4742268041237113,
          0.3709677419354839,
          0.5922330097087378,
          0.5148514851485149,
          0.6039603960396039,
          0.5258620689655172,
          0.4395604395604396,
          0.6929824561403509,
          0.5535714285714286,
          0.7314814814814815,
          0.4166666666666667,
          0.5526315789473685,
          0.4537037037037037,
          0.5263157894736842,
          0.6616541353383458,
          0.4842105263157895,
          0.6203703703703703,
          0.4329896907216495,
          0.556390977443609,
          0.5131578947368421,
          0.4956521739130435,
          0.4732142857142857,
          0.4897959183673469,
          0.408,
          0.4521739130434783,
          0.4631578947368421,
          0.404040404040404,
          0.5405405405405406
         ],
         "b": [
          0.42105263157894735,
          0.3295454545454545,
          0.4137931034482759,
          0.4939759036144578,
          0.2929292929292929,
          0.4396551724137931,
          0.2982456140350877,
          0.5225225225225225,
          0.3727272727272728,
          0.4033613445378152,
          0.3622047244094488,
          0.41121495327102797,
          0.4049586776859504,
          0.4705882352941176,
          0.3983739837398374,
          0.3870967741935484,
          0.4020618556701031,
          0.37142857142857133,
          0.2704918032786885,
          0.26548672566371684,
          0.3684210526315789,
          0.38235294117647056,
          0.3775510204081632,
          0.2706766917293233,
          0.3636363636363637,
          0.4690265486725664,
          0.392156862745098,
          0.4818181818181818,
          0.2605042016806723,
          0.2735849056603773,
          0.2159090909090909,
          0.29411764705882354,
          0.3137254901960784,
          0.3163265306122449,
          0.3706896551724138,
          0.5113636363636364,
          0.2568807339449541,
          0.2,
          0.2547169811320755,
          0.3877551020408163,
          0.24761904761904766,
          0.3274336283185841,
          0.43333333333333335,
          0.4455445544554456,
          0.3673469387755102,
          0.14782608695652175,
          0.3363636363636364,
          0.4693877551020408,
          0.41935483870967744,
          0.4583333333333333,
          0.392156862745098,
          0.4770642201834863,
          0.5798319327731093,
          0.29906542056074764,
          0.4886363636363637,
          0.3636363636363637,
          0.4070796460176992,
          0.5257731958762887,
          0.5483870967741935,
          0.2815533980582524,
          0.3960396039603961,
          0.25742574257425743,
          0.4224137931034483,
          0.5384615384615384,
          0.2719298245614035,
          0.4017857142857143,
          0.21296296296296294,
          0.46875,
          0.21929824561403508,
          0.462962962962963,
          0.42105263157894735,
          0.3308270676691729,
          0.4631578947368421,
          0.3055555555555556,
          0.4948453608247423,
          0.40601503759398494,
          0.32894736842105265,
          0.4434782608695652,
          0.4642857142857143,
          0.4081632653061225,
          0.376,
          0.40869565217391307,
          0.4631578947368421,
          0.494949494949495,
          0.32432432432432434
         ],
         "c": [
          0.03508771929824561,
          0.06818181818181818,
          0.04310344827586207,
          0.024096385542168683,
          0.060606060606060615,
          0.12931034482758622,
          0.10526315789473684,
          0.0990990990990991,
          0.09090909090909093,
          0.12605042016806722,
          0.08661417322834647,
          0.037383177570093455,
          0.10743801652892562,
          0.12745098039215685,
          0.08130081300813008,
          0.05645161290322581,
          0.061855670103092786,
          0.1,
          0.09836065573770493,
          0.11504424778761063,
          0.17543859649122806,
          0.06862745098039216,
          0.09183673469387756,
          0.15789473684210525,
          0.10743801652892562,
          0.017699115044247787,
          0.05882352941176471,
          0.07272727272727272,
          0.19327731092436976,
          0.14150943396226415,
          0.09090909090909093,
          0.12745098039215685,
          0.16666666666666666,
          0.14285714285714285,
          0.21551724137931036,
          0.17045454545454544,
          0.14678899082568808,
          0.10434782608695653,
          0.07547169811320754,
          0.07142857142857142,
          0.1238095238095238,
          0.12389380530973453,
          0.075,
          0.099009900990099,
          0.1020408163265306,
          0.1826086956521739,
          0.01818181818181818,
          0.14285714285714285,
          0.08064516129032258,
          0,
          0.1176470588235294,
          0.01834862385321101,
          0.050420168067226885,
          0.14953271028037382,
          0.09090909090909093,
          0.1919191919191919,
          0.035398230088495575,
          0,
          0.08064516129032258,
          0.1262135922330097,
          0.0891089108910891,
          0.13861386138613865,
          0.05172413793103448,
          0.02197802197802198,
          0.03508771929824561,
          0.04464285714285714,
          0.05555555555555555,
          0.11458333333333333,
          0.2280701754385965,
          0.08333333333333333,
          0.05263157894736842,
          0.0075187969924812035,
          0.05263157894736842,
          0.07407407407407407,
          0.07216494845360824,
          0.03759398496240601,
          0.15789473684210525,
          0.060869565217391314,
          0.0625,
          0.1020408163265306,
          0.21600000000000003,
          0.1391304347826087,
          0.07368421052631577,
          0.101010101010101,
          0.13513513513513514
         ],
         "marker": {
          "color": "#DB7365",
          "line": {
           "width": 2
          },
          "size": 14,
          "symbol": 100
         },
         "mode": "markers",
         "name": "Team 1 Scoring",
         "type": "scatterternary"
        },
        {
         "a": [
          0.5663716814159292,
          0.4245283018867925,
          0.5217391304347826,
          0.4519230769230769,
          0.4434782608695652,
          0.5142857142857142,
          0.56,
          0.6209677419354839,
          0.4,
          0.5491803278688525,
          0.4732142857142857,
          0.4772727272727273,
          0.4220183486238532,
          0.5643564356435643,
          0.4496124031007752,
          0.36893203883495146,
          0.536,
          0.42857142857142855,
          0.4824561403508772,
          0.3969465648854962,
          0.3636363636363637,
          0.4821428571428572,
          0.4953271028037383,
          0.5,
          0.6036036036036037,
          0.4083333333333333,
          0.32456140350877194,
          0.525,
          0.4777777777777778,
          0.5371900826446281,
          0.5473684210526316,
          0.3555555555555556,
          0.42857142857142855,
          0.2549019607843137,
          0.425531914893617,
          0.4842105263157895,
          0.3504273504273504,
          0.4067796610169492,
          0.4435483870967742,
          0.4351851851851852,
          0.4019607843137255,
          0.5779816513761468,
          0.3960396039603961,
          0.4588235294117647,
          0.5,
          0.4960629921259842,
          0.5047619047619047,
          0.4732142857142857,
          0.4234234234234234,
          0.43478260869565216,
          0.3942307692307692,
          0.4848484848484849,
          0.5350877192982456,
          0.4774774774774775,
          0.5096153846153846,
          0.5113636363636364,
          0.5803571428571429,
          0.4528301886792453,
          0.5221238938053098,
          0.4649122807017544,
          0.4076923076923077,
          0.35714285714285715,
          0.4298245614035088,
          0.5403225806451613,
          0.6153846153846154,
          0.6753246753246753,
          0.6090909090909091,
          0.4336283185840708,
          0.5826086956521739,
          0.5777777777777777,
          0.4545454545454545,
          0.5535714285714286,
          0.3608247422680412,
          0.4754098360655738,
          0.3675213675213676,
          0.4722222222222222,
          0.3853211009174312,
          0.5287356321839081,
          0.3809523809523809,
          0.6930693069306929,
          0.494949494949495,
          0.54,
          0.7431192660550459,
          0.4691358024691358
         ],
         "b": [
          0.16814159292035402,
          0.2169811320754717,
          0.17391304347826084,
          0.1153846153846154,
          0.1565217391304348,
          0.2,
          0.12,
          0.13709677419354838,
          0.1875,
          0.19672131147540986,
          0.21428571428571427,
          0.20454545454545456,
          0.1834862385321101,
          0.19801980198019806,
          0.2015503875968992,
          0.3106796116504854,
          0.22399999999999998,
          0.3025210084033613,
          0.17543859649122806,
          0.2137404580152672,
          0.21212121212121213,
          0.15178571428571427,
          0.19626168224299065,
          0.16279069767441862,
          0.21621621621621626,
          0.225,
          0.32456140350877194,
          0.25,
          0.18888888888888888,
          0.2975206611570248,
          0.16842105263157894,
          0.37777777777777777,
          0.1978021978021978,
          0.3137254901960784,
          0.18085106382978725,
          0.18947368421052632,
          0.21367521367521367,
          0.1694915254237288,
          0.1129032258064516,
          0.17592592592592593,
          0.09803921568627452,
          0.14678899082568808,
          0.2673267326732673,
          0.2,
          0.2826086956521739,
          0.2755905511811024,
          0.2571428571428571,
          0.14285714285714285,
          0.1891891891891892,
          0.2,
          0.17307692307692307,
          0.202020202020202,
          0.15789473684210525,
          0.14414414414414414,
          0.1346153846153846,
          0.3409090909090909,
          0.25,
          0.16981132075471694,
          0.2743362831858407,
          0.2280701754385965,
          0.2153846153846154,
          0.31746031746031744,
          0.30701754385964913,
          0.13709677419354838,
          0.19230769230769232,
          0.18181818181818185,
          0.2545454545454545,
          0.21238938053097345,
          0.2782608695652174,
          0.2111111111111111,
          0.20909090909090908,
          0.17857142857142858,
          0.25773195876288657,
          0.319672131147541,
          0.21367521367521367,
          0.20833333333333331,
          0.11009174311926606,
          0.1264367816091954,
          0.10476190476190476,
          0.10891089108910892,
          0.2525252525252525,
          0.19,
          0.01834862385321101,
          0.061728395061728385
         ],
         "c": [
          0.26548672566371684,
          0.3584905660377358,
          0.3043478260869565,
          0.4326923076923077,
          0.4,
          0.2857142857142857,
          0.32,
          0.2419354838709677,
          0.4125,
          0.2540983606557377,
          0.3125,
          0.3181818181818182,
          0.3944954128440367,
          0.2376237623762376,
          0.3488372093023256,
          0.32038834951456313,
          0.24,
          0.2689075630252101,
          0.34210526315789475,
          0.3893129770992366,
          0.42424242424242425,
          0.36607142857142855,
          0.308411214953271,
          0.3372093023255814,
          0.18018018018018014,
          0.36666666666666653,
          0.3508771929824561,
          0.225,
          0.3333333333333333,
          0.1652892561983471,
          0.2842105263157895,
          0.26666666666666666,
          0.3736263736263736,
          0.4313725490196079,
          0.39361702127659576,
          0.3263157894736842,
          0.4358974358974359,
          0.42372881355932196,
          0.4435483870967742,
          0.3888888888888889,
          0.5,
          0.27522935779816515,
          0.33663366336633666,
          0.3411764705882353,
          0.21739130434782608,
          0.2283464566929134,
          0.2380952380952381,
          0.38392857142857145,
          0.38738738738738737,
          0.3652173913043478,
          0.4326923076923077,
          0.31313131313131315,
          0.30701754385964913,
          0.3783783783783784,
          0.3557692307692308,
          0.14772727272727273,
          0.16964285714285715,
          0.37735849056603776,
          0.2035398230088496,
          0.30701754385964913,
          0.3769230769230769,
          0.3253968253968254,
          0.2631578947368421,
          0.3225806451612903,
          0.19230769230769232,
          0.14285714285714285,
          0.13636363636363635,
          0.3539823008849557,
          0.1391304347826087,
          0.2111111111111111,
          0.3363636363636364,
          0.26785714285714285,
          0.38144329896907214,
          0.20491803278688525,
          0.4188034188034188,
          0.3194444444444444,
          0.5045871559633027,
          0.3448275862068966,
          0.5142857142857142,
          0.19801980198019806,
          0.2525252525252525,
          0.27,
          0.23853211009174316,
          0.4691358024691358
         ],
         "marker": {
          "color": "#44D500",
          "opacity": 0.4,
          "size": 14
         },
         "mode": "markers",
         "name": "Team 2 Scoring",
         "type": "scatterternary"
        }
       ],
       "layout": {
        "height": 500,
        "legend": {
         "font": {
          "size": 14
         },
         "x": -0.2,
         "y": 1
        },
        "template": {
         "data": {
          "bar": [
           {
            "error_x": {
             "color": "#2a3f5f"
            },
            "error_y": {
             "color": "#2a3f5f"
            },
            "marker": {
             "line": {
              "color": "#E5ECF6",
              "width": 0.5
             }
            },
            "type": "bar"
           }
          ],
          "barpolar": [
           {
            "marker": {
             "line": {
              "color": "#E5ECF6",
              "width": 0.5
             }
            },
            "type": "barpolar"
           }
          ],
          "carpet": [
           {
            "aaxis": {
             "endlinecolor": "#2a3f5f",
             "gridcolor": "white",
             "linecolor": "white",
             "minorgridcolor": "white",
             "startlinecolor": "#2a3f5f"
            },
            "baxis": {
             "endlinecolor": "#2a3f5f",
             "gridcolor": "white",
             "linecolor": "white",
             "minorgridcolor": "white",
             "startlinecolor": "#2a3f5f"
            },
            "type": "carpet"
           }
          ],
          "choropleth": [
           {
            "colorbar": {
             "outlinewidth": 0,
             "ticks": ""
            },
            "type": "choropleth"
           }
          ],
          "contour": [
           {
            "colorbar": {
             "outlinewidth": 0,
             "ticks": ""
            },
            "colorscale": [
             [
              0,
              "#0d0887"
             ],
             [
              0.1111111111111111,
              "#46039f"
             ],
             [
              0.2222222222222222,
              "#7201a8"
             ],
             [
              0.3333333333333333,
              "#9c179e"
             ],
             [
              0.4444444444444444,
              "#bd3786"
             ],
             [
              0.5555555555555556,
              "#d8576b"
             ],
             [
              0.6666666666666666,
              "#ed7953"
             ],
             [
              0.7777777777777778,
              "#fb9f3a"
             ],
             [
              0.8888888888888888,
              "#fdca26"
             ],
             [
              1,
              "#f0f921"
             ]
            ],
            "type": "contour"
           }
          ],
          "contourcarpet": [
           {
            "colorbar": {
             "outlinewidth": 0,
             "ticks": ""
            },
            "type": "contourcarpet"
           }
          ],
          "heatmap": [
           {
            "colorbar": {
             "outlinewidth": 0,
             "ticks": ""
            },
            "colorscale": [
             [
              0,
              "#0d0887"
             ],
             [
              0.1111111111111111,
              "#46039f"
             ],
             [
              0.2222222222222222,
              "#7201a8"
             ],
             [
              0.3333333333333333,
              "#9c179e"
             ],
             [
              0.4444444444444444,
              "#bd3786"
             ],
             [
              0.5555555555555556,
              "#d8576b"
             ],
             [
              0.6666666666666666,
              "#ed7953"
             ],
             [
              0.7777777777777778,
              "#fb9f3a"
             ],
             [
              0.8888888888888888,
              "#fdca26"
             ],
             [
              1,
              "#f0f921"
             ]
            ],
            "type": "heatmap"
           }
          ],
          "heatmapgl": [
           {
            "colorbar": {
             "outlinewidth": 0,
             "ticks": ""
            },
            "colorscale": [
             [
              0,
              "#0d0887"
             ],
             [
              0.1111111111111111,
              "#46039f"
             ],
             [
              0.2222222222222222,
              "#7201a8"
             ],
             [
              0.3333333333333333,
              "#9c179e"
             ],
             [
              0.4444444444444444,
              "#bd3786"
             ],
             [
              0.5555555555555556,
              "#d8576b"
             ],
             [
              0.6666666666666666,
              "#ed7953"
             ],
             [
              0.7777777777777778,
              "#fb9f3a"
             ],
             [
              0.8888888888888888,
              "#fdca26"
             ],
             [
              1,
              "#f0f921"
             ]
            ],
            "type": "heatmapgl"
           }
          ],
          "histogram": [
           {
            "marker": {
             "colorbar": {
              "outlinewidth": 0,
              "ticks": ""
             }
            },
            "type": "histogram"
           }
          ],
          "histogram2d": [
           {
            "colorbar": {
             "outlinewidth": 0,
             "ticks": ""
            },
            "colorscale": [
             [
              0,
              "#0d0887"
             ],
             [
              0.1111111111111111,
              "#46039f"
             ],
             [
              0.2222222222222222,
              "#7201a8"
             ],
             [
              0.3333333333333333,
              "#9c179e"
             ],
             [
              0.4444444444444444,
              "#bd3786"
             ],
             [
              0.5555555555555556,
              "#d8576b"
             ],
             [
              0.6666666666666666,
              "#ed7953"
             ],
             [
              0.7777777777777778,
              "#fb9f3a"
             ],
             [
              0.8888888888888888,
              "#fdca26"
             ],
             [
              1,
              "#f0f921"
             ]
            ],
            "type": "histogram2d"
           }
          ],
          "histogram2dcontour": [
           {
            "colorbar": {
             "outlinewidth": 0,
             "ticks": ""
            },
            "colorscale": [
             [
              0,
              "#0d0887"
             ],
             [
              0.1111111111111111,
              "#46039f"
             ],
             [
              0.2222222222222222,
              "#7201a8"
             ],
             [
              0.3333333333333333,
              "#9c179e"
             ],
             [
              0.4444444444444444,
              "#bd3786"
             ],
             [
              0.5555555555555556,
              "#d8576b"
             ],
             [
              0.6666666666666666,
              "#ed7953"
             ],
             [
              0.7777777777777778,
              "#fb9f3a"
             ],
             [
              0.8888888888888888,
              "#fdca26"
             ],
             [
              1,
              "#f0f921"
             ]
            ],
            "type": "histogram2dcontour"
           }
          ],
          "mesh3d": [
           {
            "colorbar": {
             "outlinewidth": 0,
             "ticks": ""
            },
            "type": "mesh3d"
           }
          ],
          "parcoords": [
           {
            "line": {
             "colorbar": {
              "outlinewidth": 0,
              "ticks": ""
             }
            },
            "type": "parcoords"
           }
          ],
          "pie": [
           {
            "automargin": true,
            "type": "pie"
           }
          ],
          "scatter": [
           {
            "marker": {
             "colorbar": {
              "outlinewidth": 0,
              "ticks": ""
             }
            },
            "type": "scatter"
           }
          ],
          "scatter3d": [
           {
            "line": {
             "colorbar": {
              "outlinewidth": 0,
              "ticks": ""
             }
            },
            "marker": {
             "colorbar": {
              "outlinewidth": 0,
              "ticks": ""
             }
            },
            "type": "scatter3d"
           }
          ],
          "scattercarpet": [
           {
            "marker": {
             "colorbar": {
              "outlinewidth": 0,
              "ticks": ""
             }
            },
            "type": "scattercarpet"
           }
          ],
          "scattergeo": [
           {
            "marker": {
             "colorbar": {
              "outlinewidth": 0,
              "ticks": ""
             }
            },
            "type": "scattergeo"
           }
          ],
          "scattergl": [
           {
            "marker": {
             "colorbar": {
              "outlinewidth": 0,
              "ticks": ""
             }
            },
            "type": "scattergl"
           }
          ],
          "scattermapbox": [
           {
            "marker": {
             "colorbar": {
              "outlinewidth": 0,
              "ticks": ""
             }
            },
            "type": "scattermapbox"
           }
          ],
          "scatterpolar": [
           {
            "marker": {
             "colorbar": {
              "outlinewidth": 0,
              "ticks": ""
             }
            },
            "type": "scatterpolar"
           }
          ],
          "scatterpolargl": [
           {
            "marker": {
             "colorbar": {
              "outlinewidth": 0,
              "ticks": ""
             }
            },
            "type": "scatterpolargl"
           }
          ],
          "scatterternary": [
           {
            "marker": {
             "colorbar": {
              "outlinewidth": 0,
              "ticks": ""
             }
            },
            "type": "scatterternary"
           }
          ],
          "surface": [
           {
            "colorbar": {
             "outlinewidth": 0,
             "ticks": ""
            },
            "colorscale": [
             [
              0,
              "#0d0887"
             ],
             [
              0.1111111111111111,
              "#46039f"
             ],
             [
              0.2222222222222222,
              "#7201a8"
             ],
             [
              0.3333333333333333,
              "#9c179e"
             ],
             [
              0.4444444444444444,
              "#bd3786"
             ],
             [
              0.5555555555555556,
              "#d8576b"
             ],
             [
              0.6666666666666666,
              "#ed7953"
             ],
             [
              0.7777777777777778,
              "#fb9f3a"
             ],
             [
              0.8888888888888888,
              "#fdca26"
             ],
             [
              1,
              "#f0f921"
             ]
            ],
            "type": "surface"
           }
          ],
          "table": [
           {
            "cells": {
             "fill": {
              "color": "#EBF0F8"
             },
             "line": {
              "color": "white"
             }
            },
            "header": {
             "fill": {
              "color": "#C8D4E3"
             },
             "line": {
              "color": "white"
             }
            },
            "type": "table"
           }
          ]
         },
         "layout": {
          "annotationdefaults": {
           "arrowcolor": "#2a3f5f",
           "arrowhead": 0,
           "arrowwidth": 1
          },
          "coloraxis": {
           "colorbar": {
            "outlinewidth": 0,
            "ticks": ""
           }
          },
          "colorscale": {
           "diverging": [
            [
             0,
             "#8e0152"
            ],
            [
             0.1,
             "#c51b7d"
            ],
            [
             0.2,
             "#de77ae"
            ],
            [
             0.3,
             "#f1b6da"
            ],
            [
             0.4,
             "#fde0ef"
            ],
            [
             0.5,
             "#f7f7f7"
            ],
            [
             0.6,
             "#e6f5d0"
            ],
            [
             0.7,
             "#b8e186"
            ],
            [
             0.8,
             "#7fbc41"
            ],
            [
             0.9,
             "#4d9221"
            ],
            [
             1,
             "#276419"
            ]
           ],
           "sequential": [
            [
             0,
             "#0d0887"
            ],
            [
             0.1111111111111111,
             "#46039f"
            ],
            [
             0.2222222222222222,
             "#7201a8"
            ],
            [
             0.3333333333333333,
             "#9c179e"
            ],
            [
             0.4444444444444444,
             "#bd3786"
            ],
            [
             0.5555555555555556,
             "#d8576b"
            ],
            [
             0.6666666666666666,
             "#ed7953"
            ],
            [
             0.7777777777777778,
             "#fb9f3a"
            ],
            [
             0.8888888888888888,
             "#fdca26"
            ],
            [
             1,
             "#f0f921"
            ]
           ],
           "sequentialminus": [
            [
             0,
             "#0d0887"
            ],
            [
             0.1111111111111111,
             "#46039f"
            ],
            [
             0.2222222222222222,
             "#7201a8"
            ],
            [
             0.3333333333333333,
             "#9c179e"
            ],
            [
             0.4444444444444444,
             "#bd3786"
            ],
            [
             0.5555555555555556,
             "#d8576b"
            ],
            [
             0.6666666666666666,
             "#ed7953"
            ],
            [
             0.7777777777777778,
             "#fb9f3a"
            ],
            [
             0.8888888888888888,
             "#fdca26"
            ],
            [
             1,
             "#f0f921"
            ]
           ]
          },
          "colorway": [
           "#636efa",
           "#EF553B",
           "#00cc96",
           "#ab63fa",
           "#FFA15A",
           "#19d3f3",
           "#FF6692",
           "#B6E880",
           "#FF97FF",
           "#FECB52"
          ],
          "font": {
           "color": "#2a3f5f"
          },
          "geo": {
           "bgcolor": "white",
           "lakecolor": "white",
           "landcolor": "#E5ECF6",
           "showlakes": true,
           "showland": true,
           "subunitcolor": "white"
          },
          "hoverlabel": {
           "align": "left"
          },
          "hovermode": "closest",
          "mapbox": {
           "style": "light"
          },
          "paper_bgcolor": "white",
          "plot_bgcolor": "#E5ECF6",
          "polar": {
           "angularaxis": {
            "gridcolor": "white",
            "linecolor": "white",
            "ticks": ""
           },
           "bgcolor": "#E5ECF6",
           "radialaxis": {
            "gridcolor": "white",
            "linecolor": "white",
            "ticks": ""
           }
          },
          "scene": {
           "xaxis": {
            "backgroundcolor": "#E5ECF6",
            "gridcolor": "white",
            "gridwidth": 2,
            "linecolor": "white",
            "showbackground": true,
            "ticks": "",
            "zerolinecolor": "white"
           },
           "yaxis": {
            "backgroundcolor": "#E5ECF6",
            "gridcolor": "white",
            "gridwidth": 2,
            "linecolor": "white",
            "showbackground": true,
            "ticks": "",
            "zerolinecolor": "white"
           },
           "zaxis": {
            "backgroundcolor": "#E5ECF6",
            "gridcolor": "white",
            "gridwidth": 2,
            "linecolor": "white",
            "showbackground": true,
            "ticks": "",
            "zerolinecolor": "white"
           }
          },
          "shapedefaults": {
           "line": {
            "color": "#2a3f5f"
           }
          },
          "ternary": {
           "aaxis": {
            "gridcolor": "white",
            "linecolor": "white",
            "ticks": ""
           },
           "baxis": {
            "gridcolor": "white",
            "linecolor": "white",
            "ticks": ""
           },
           "bgcolor": "#E5ECF6",
           "caxis": {
            "gridcolor": "white",
            "linecolor": "white",
            "ticks": ""
           }
          },
          "title": {
           "x": 0.05
          },
          "xaxis": {
           "automargin": true,
           "gridcolor": "white",
           "linecolor": "white",
           "ticks": "",
           "title": {
            "standoff": 15
           },
           "zerolinecolor": "white",
           "zerolinewidth": 2
          },
          "yaxis": {
           "automargin": true,
           "gridcolor": "white",
           "linecolor": "white",
           "ticks": "",
           "title": {
            "standoff": 15
           },
           "zerolinecolor": "white",
           "zerolinewidth": 2
          }
         }
        },
        "ternary": {
         "aaxis": {
          "showgrid": true,
          "tickangle": 0,
          "tickfont": {
           "size": 12
          },
          "title": {
           "font": {
            "size": 14
           },
           "text": "Guards"
          }
         },
         "baxis": {
          "showgrid": true,
          "tickangle": 45,
          "tickfont": {
           "size": 12
          },
          "title": {
           "font": {
            "size": 14
           },
           "text": "<br>Wings"
          }
         },
         "caxis": {
          "showgrid": true,
          "tickangle": -45,
          "tickfont": {
           "size": 12
          },
          "title": {
           "font": {
            "size": 14
           },
           "text": "<br>Bigs"
          }
         },
         "sum": 100
        },
        "width": 500
       }
      },
      "text/html": [
       "<div>\n",
       "        \n",
       "        \n",
       "            <div id=\"6c74f747-0c26-4581-a2c4-0daa37bda87f\" class=\"plotly-graph-div\" style=\"height:500px; width:500px;\"></div>\n",
       "            <script type=\"text/javascript\">\n",
       "                require([\"plotly\"], function(Plotly) {\n",
       "                    window.PLOTLYENV=window.PLOTLYENV || {};\n",
       "                    \n",
       "                if (document.getElementById(\"6c74f747-0c26-4581-a2c4-0daa37bda87f\")) {\n",
       "                    Plotly.newPlot(\n",
       "                        '6c74f747-0c26-4581-a2c4-0daa37bda87f',\n",
       "                        [{\"a\": [0.543859649122807, 0.6022727272727273, 0.5431034482758621, 0.4819277108433735, 0.6464646464646465, 0.4310344827586207, 0.5964912280701754, 0.3783783783783784, 0.5363636363636364, 0.4705882352941176, 0.5511811023622047, 0.5514018691588785, 0.487603305785124, 0.4019607843137255, 0.5203252032520326, 0.5564516129032258, 0.5360824742268041, 0.5285714285714286, 0.6311475409836066, 0.6194690265486725, 0.456140350877193, 0.5490196078431373, 0.5306122448979592, 0.5714285714285714, 0.5289256198347108, 0.5132743362831859, 0.5490196078431373, 0.44545454545454544, 0.5462184873949579, 0.5849056603773585, 0.6931818181818182, 0.5784313725490197, 0.5196078431372549, 0.5408163265306123, 0.4137931034482759, 0.3181818181818182, 0.5963302752293578, 0.6956521739130435, 0.6698113207547169, 0.5408163265306123, 0.6285714285714286, 0.5486725663716814, 0.4916666666666666, 0.4554455445544554, 0.5306122448979592, 0.6695652173913044, 0.6454545454545455, 0.3877551020408163, 0.5, 0.5416666666666666, 0.4901960784313725, 0.5045871559633027, 0.3697478991596639, 0.5514018691588785, 0.4204545454545455, 0.4444444444444444, 0.5575221238938053, 0.4742268041237113, 0.3709677419354839, 0.5922330097087378, 0.5148514851485149, 0.6039603960396039, 0.5258620689655172, 0.4395604395604396, 0.6929824561403509, 0.5535714285714286, 0.7314814814814815, 0.4166666666666667, 0.5526315789473685, 0.4537037037037037, 0.5263157894736842, 0.6616541353383458, 0.4842105263157895, 0.6203703703703703, 0.4329896907216495, 0.556390977443609, 0.5131578947368421, 0.4956521739130435, 0.4732142857142857, 0.4897959183673469, 0.408, 0.4521739130434783, 0.4631578947368421, 0.404040404040404, 0.5405405405405406], \"b\": [0.42105263157894735, 0.3295454545454545, 0.4137931034482759, 0.4939759036144578, 0.2929292929292929, 0.4396551724137931, 0.2982456140350877, 0.5225225225225225, 0.3727272727272728, 0.4033613445378152, 0.3622047244094488, 0.41121495327102797, 0.4049586776859504, 0.4705882352941176, 0.3983739837398374, 0.3870967741935484, 0.4020618556701031, 0.37142857142857133, 0.2704918032786885, 0.26548672566371684, 0.3684210526315789, 0.38235294117647056, 0.3775510204081632, 0.2706766917293233, 0.3636363636363637, 0.4690265486725664, 0.392156862745098, 0.4818181818181818, 0.2605042016806723, 0.2735849056603773, 0.2159090909090909, 0.29411764705882354, 0.3137254901960784, 0.3163265306122449, 0.3706896551724138, 0.5113636363636364, 0.2568807339449541, 0.2, 0.2547169811320755, 0.3877551020408163, 0.24761904761904766, 0.3274336283185841, 0.43333333333333335, 0.4455445544554456, 0.3673469387755102, 0.14782608695652175, 0.3363636363636364, 0.4693877551020408, 0.41935483870967744, 0.4583333333333333, 0.392156862745098, 0.4770642201834863, 0.5798319327731093, 0.29906542056074764, 0.4886363636363637, 0.3636363636363637, 0.4070796460176992, 0.5257731958762887, 0.5483870967741935, 0.2815533980582524, 0.3960396039603961, 0.25742574257425743, 0.4224137931034483, 0.5384615384615384, 0.2719298245614035, 0.4017857142857143, 0.21296296296296294, 0.46875, 0.21929824561403508, 0.462962962962963, 0.42105263157894735, 0.3308270676691729, 0.4631578947368421, 0.3055555555555556, 0.4948453608247423, 0.40601503759398494, 0.32894736842105265, 0.4434782608695652, 0.4642857142857143, 0.4081632653061225, 0.376, 0.40869565217391307, 0.4631578947368421, 0.494949494949495, 0.32432432432432434], \"c\": [0.03508771929824561, 0.06818181818181818, 0.04310344827586207, 0.024096385542168683, 0.060606060606060615, 0.12931034482758622, 0.10526315789473684, 0.0990990990990991, 0.09090909090909093, 0.12605042016806722, 0.08661417322834647, 0.037383177570093455, 0.10743801652892562, 0.12745098039215685, 0.08130081300813008, 0.05645161290322581, 0.061855670103092786, 0.1, 0.09836065573770493, 0.11504424778761063, 0.17543859649122806, 0.06862745098039216, 0.09183673469387756, 0.15789473684210525, 0.10743801652892562, 0.017699115044247787, 0.05882352941176471, 0.07272727272727272, 0.19327731092436976, 0.14150943396226415, 0.09090909090909093, 0.12745098039215685, 0.16666666666666666, 0.14285714285714285, 0.21551724137931036, 0.17045454545454544, 0.14678899082568808, 0.10434782608695653, 0.07547169811320754, 0.07142857142857142, 0.1238095238095238, 0.12389380530973453, 0.075, 0.099009900990099, 0.1020408163265306, 0.1826086956521739, 0.01818181818181818, 0.14285714285714285, 0.08064516129032258, 0.0, 0.1176470588235294, 0.01834862385321101, 0.050420168067226885, 0.14953271028037382, 0.09090909090909093, 0.1919191919191919, 0.035398230088495575, 0.0, 0.08064516129032258, 0.1262135922330097, 0.0891089108910891, 0.13861386138613865, 0.05172413793103448, 0.02197802197802198, 0.03508771929824561, 0.04464285714285714, 0.05555555555555555, 0.11458333333333333, 0.2280701754385965, 0.08333333333333333, 0.05263157894736842, 0.0075187969924812035, 0.05263157894736842, 0.07407407407407407, 0.07216494845360824, 0.03759398496240601, 0.15789473684210525, 0.060869565217391314, 0.0625, 0.1020408163265306, 0.21600000000000003, 0.1391304347826087, 0.07368421052631577, 0.101010101010101, 0.13513513513513514], \"marker\": {\"color\": \"#DB7365\", \"line\": {\"width\": 2}, \"size\": 14, \"symbol\": 100}, \"mode\": \"markers\", \"name\": \"Team 1 Scoring\", \"type\": \"scatterternary\"}, {\"a\": [0.5663716814159292, 0.4245283018867925, 0.5217391304347826, 0.4519230769230769, 0.4434782608695652, 0.5142857142857142, 0.56, 0.6209677419354839, 0.4, 0.5491803278688525, 0.4732142857142857, 0.4772727272727273, 0.4220183486238532, 0.5643564356435643, 0.4496124031007752, 0.36893203883495146, 0.536, 0.42857142857142855, 0.4824561403508772, 0.3969465648854962, 0.3636363636363637, 0.4821428571428572, 0.4953271028037383, 0.5, 0.6036036036036037, 0.4083333333333333, 0.32456140350877194, 0.525, 0.4777777777777778, 0.5371900826446281, 0.5473684210526316, 0.3555555555555556, 0.42857142857142855, 0.2549019607843137, 0.425531914893617, 0.4842105263157895, 0.3504273504273504, 0.4067796610169492, 0.4435483870967742, 0.4351851851851852, 0.4019607843137255, 0.5779816513761468, 0.3960396039603961, 0.4588235294117647, 0.5, 0.4960629921259842, 0.5047619047619047, 0.4732142857142857, 0.4234234234234234, 0.43478260869565216, 0.3942307692307692, 0.4848484848484849, 0.5350877192982456, 0.4774774774774775, 0.5096153846153846, 0.5113636363636364, 0.5803571428571429, 0.4528301886792453, 0.5221238938053098, 0.4649122807017544, 0.4076923076923077, 0.35714285714285715, 0.4298245614035088, 0.5403225806451613, 0.6153846153846154, 0.6753246753246753, 0.6090909090909091, 0.4336283185840708, 0.5826086956521739, 0.5777777777777777, 0.4545454545454545, 0.5535714285714286, 0.3608247422680412, 0.4754098360655738, 0.3675213675213676, 0.4722222222222222, 0.3853211009174312, 0.5287356321839081, 0.3809523809523809, 0.6930693069306929, 0.494949494949495, 0.54, 0.7431192660550459, 0.4691358024691358], \"b\": [0.16814159292035402, 0.2169811320754717, 0.17391304347826084, 0.1153846153846154, 0.1565217391304348, 0.2, 0.12, 0.13709677419354838, 0.1875, 0.19672131147540986, 0.21428571428571427, 0.20454545454545456, 0.1834862385321101, 0.19801980198019806, 0.2015503875968992, 0.3106796116504854, 0.22399999999999998, 0.3025210084033613, 0.17543859649122806, 0.2137404580152672, 0.21212121212121213, 0.15178571428571427, 0.19626168224299065, 0.16279069767441862, 0.21621621621621626, 0.225, 0.32456140350877194, 0.25, 0.18888888888888888, 0.2975206611570248, 0.16842105263157894, 0.37777777777777777, 0.1978021978021978, 0.3137254901960784, 0.18085106382978725, 0.18947368421052632, 0.21367521367521367, 0.1694915254237288, 0.1129032258064516, 0.17592592592592593, 0.09803921568627452, 0.14678899082568808, 0.2673267326732673, 0.2, 0.2826086956521739, 0.2755905511811024, 0.2571428571428571, 0.14285714285714285, 0.1891891891891892, 0.2, 0.17307692307692307, 0.202020202020202, 0.15789473684210525, 0.14414414414414414, 0.1346153846153846, 0.3409090909090909, 0.25, 0.16981132075471694, 0.2743362831858407, 0.2280701754385965, 0.2153846153846154, 0.31746031746031744, 0.30701754385964913, 0.13709677419354838, 0.19230769230769232, 0.18181818181818185, 0.2545454545454545, 0.21238938053097345, 0.2782608695652174, 0.2111111111111111, 0.20909090909090908, 0.17857142857142858, 0.25773195876288657, 0.319672131147541, 0.21367521367521367, 0.20833333333333331, 0.11009174311926606, 0.1264367816091954, 0.10476190476190476, 0.10891089108910892, 0.2525252525252525, 0.19, 0.01834862385321101, 0.061728395061728385], \"c\": [0.26548672566371684, 0.3584905660377358, 0.3043478260869565, 0.4326923076923077, 0.4, 0.2857142857142857, 0.32, 0.2419354838709677, 0.4125, 0.2540983606557377, 0.3125, 0.3181818181818182, 0.3944954128440367, 0.2376237623762376, 0.3488372093023256, 0.32038834951456313, 0.24, 0.2689075630252101, 0.34210526315789475, 0.3893129770992366, 0.42424242424242425, 0.36607142857142855, 0.308411214953271, 0.3372093023255814, 0.18018018018018014, 0.36666666666666653, 0.3508771929824561, 0.225, 0.3333333333333333, 0.1652892561983471, 0.2842105263157895, 0.26666666666666666, 0.3736263736263736, 0.4313725490196079, 0.39361702127659576, 0.3263157894736842, 0.4358974358974359, 0.42372881355932196, 0.4435483870967742, 0.3888888888888889, 0.5, 0.27522935779816515, 0.33663366336633666, 0.3411764705882353, 0.21739130434782608, 0.2283464566929134, 0.2380952380952381, 0.38392857142857145, 0.38738738738738737, 0.3652173913043478, 0.4326923076923077, 0.31313131313131315, 0.30701754385964913, 0.3783783783783784, 0.3557692307692308, 0.14772727272727273, 0.16964285714285715, 0.37735849056603776, 0.2035398230088496, 0.30701754385964913, 0.3769230769230769, 0.3253968253968254, 0.2631578947368421, 0.3225806451612903, 0.19230769230769232, 0.14285714285714285, 0.13636363636363635, 0.3539823008849557, 0.1391304347826087, 0.2111111111111111, 0.3363636363636364, 0.26785714285714285, 0.38144329896907214, 0.20491803278688525, 0.4188034188034188, 0.3194444444444444, 0.5045871559633027, 0.3448275862068966, 0.5142857142857142, 0.19801980198019806, 0.2525252525252525, 0.27, 0.23853211009174316, 0.4691358024691358], \"marker\": {\"color\": \"#44D500\", \"opacity\": 0.4, \"size\": 14}, \"mode\": \"markers\", \"name\": \"Team 2 Scoring\", \"type\": \"scatterternary\"}],\n",
       "                        {\"height\": 500, \"legend\": {\"font\": {\"size\": 14}, \"x\": -0.2, \"y\": 1}, \"template\": {\"data\": {\"bar\": [{\"error_x\": {\"color\": \"#2a3f5f\"}, \"error_y\": {\"color\": \"#2a3f5f\"}, \"marker\": {\"line\": {\"color\": \"#E5ECF6\", \"width\": 0.5}}, \"type\": \"bar\"}], \"barpolar\": [{\"marker\": {\"line\": {\"color\": \"#E5ECF6\", \"width\": 0.5}}, \"type\": \"barpolar\"}], \"carpet\": [{\"aaxis\": {\"endlinecolor\": \"#2a3f5f\", \"gridcolor\": \"white\", \"linecolor\": \"white\", \"minorgridcolor\": \"white\", \"startlinecolor\": \"#2a3f5f\"}, \"baxis\": {\"endlinecolor\": \"#2a3f5f\", \"gridcolor\": \"white\", \"linecolor\": \"white\", \"minorgridcolor\": \"white\", \"startlinecolor\": \"#2a3f5f\"}, \"type\": \"carpet\"}], \"choropleth\": [{\"colorbar\": {\"outlinewidth\": 0, \"ticks\": \"\"}, \"type\": \"choropleth\"}], \"contour\": [{\"colorbar\": {\"outlinewidth\": 0, \"ticks\": \"\"}, \"colorscale\": [[0.0, \"#0d0887\"], [0.1111111111111111, \"#46039f\"], [0.2222222222222222, \"#7201a8\"], [0.3333333333333333, \"#9c179e\"], [0.4444444444444444, \"#bd3786\"], [0.5555555555555556, \"#d8576b\"], [0.6666666666666666, \"#ed7953\"], [0.7777777777777778, \"#fb9f3a\"], [0.8888888888888888, \"#fdca26\"], [1.0, \"#f0f921\"]], \"type\": \"contour\"}], \"contourcarpet\": [{\"colorbar\": {\"outlinewidth\": 0, \"ticks\": \"\"}, \"type\": \"contourcarpet\"}], \"heatmap\": [{\"colorbar\": {\"outlinewidth\": 0, \"ticks\": \"\"}, \"colorscale\": [[0.0, \"#0d0887\"], [0.1111111111111111, \"#46039f\"], [0.2222222222222222, \"#7201a8\"], [0.3333333333333333, \"#9c179e\"], [0.4444444444444444, \"#bd3786\"], [0.5555555555555556, \"#d8576b\"], [0.6666666666666666, \"#ed7953\"], [0.7777777777777778, \"#fb9f3a\"], [0.8888888888888888, \"#fdca26\"], [1.0, \"#f0f921\"]], \"type\": \"heatmap\"}], \"heatmapgl\": [{\"colorbar\": {\"outlinewidth\": 0, \"ticks\": \"\"}, \"colorscale\": [[0.0, \"#0d0887\"], [0.1111111111111111, \"#46039f\"], [0.2222222222222222, \"#7201a8\"], [0.3333333333333333, \"#9c179e\"], [0.4444444444444444, \"#bd3786\"], [0.5555555555555556, \"#d8576b\"], [0.6666666666666666, \"#ed7953\"], [0.7777777777777778, \"#fb9f3a\"], [0.8888888888888888, \"#fdca26\"], [1.0, \"#f0f921\"]], \"type\": \"heatmapgl\"}], \"histogram\": [{\"marker\": {\"colorbar\": {\"outlinewidth\": 0, \"ticks\": \"\"}}, \"type\": \"histogram\"}], \"histogram2d\": [{\"colorbar\": {\"outlinewidth\": 0, \"ticks\": \"\"}, \"colorscale\": [[0.0, \"#0d0887\"], [0.1111111111111111, \"#46039f\"], [0.2222222222222222, \"#7201a8\"], [0.3333333333333333, \"#9c179e\"], [0.4444444444444444, \"#bd3786\"], [0.5555555555555556, \"#d8576b\"], [0.6666666666666666, \"#ed7953\"], [0.7777777777777778, \"#fb9f3a\"], [0.8888888888888888, \"#fdca26\"], [1.0, \"#f0f921\"]], \"type\": \"histogram2d\"}], \"histogram2dcontour\": [{\"colorbar\": {\"outlinewidth\": 0, \"ticks\": \"\"}, \"colorscale\": [[0.0, \"#0d0887\"], [0.1111111111111111, \"#46039f\"], [0.2222222222222222, \"#7201a8\"], [0.3333333333333333, \"#9c179e\"], [0.4444444444444444, \"#bd3786\"], [0.5555555555555556, \"#d8576b\"], [0.6666666666666666, \"#ed7953\"], [0.7777777777777778, \"#fb9f3a\"], [0.8888888888888888, \"#fdca26\"], [1.0, \"#f0f921\"]], \"type\": \"histogram2dcontour\"}], \"mesh3d\": [{\"colorbar\": {\"outlinewidth\": 0, \"ticks\": \"\"}, \"type\": \"mesh3d\"}], \"parcoords\": [{\"line\": {\"colorbar\": {\"outlinewidth\": 0, \"ticks\": \"\"}}, \"type\": \"parcoords\"}], \"pie\": [{\"automargin\": true, \"type\": \"pie\"}], \"scatter\": [{\"marker\": {\"colorbar\": {\"outlinewidth\": 0, \"ticks\": \"\"}}, \"type\": \"scatter\"}], \"scatter3d\": [{\"line\": {\"colorbar\": {\"outlinewidth\": 0, \"ticks\": \"\"}}, \"marker\": {\"colorbar\": {\"outlinewidth\": 0, \"ticks\": \"\"}}, \"type\": \"scatter3d\"}], \"scattercarpet\": [{\"marker\": {\"colorbar\": {\"outlinewidth\": 0, \"ticks\": \"\"}}, \"type\": \"scattercarpet\"}], \"scattergeo\": [{\"marker\": {\"colorbar\": {\"outlinewidth\": 0, \"ticks\": \"\"}}, \"type\": \"scattergeo\"}], \"scattergl\": [{\"marker\": {\"colorbar\": {\"outlinewidth\": 0, \"ticks\": \"\"}}, \"type\": \"scattergl\"}], \"scattermapbox\": [{\"marker\": {\"colorbar\": {\"outlinewidth\": 0, \"ticks\": \"\"}}, \"type\": \"scattermapbox\"}], \"scatterpolar\": [{\"marker\": {\"colorbar\": {\"outlinewidth\": 0, \"ticks\": \"\"}}, \"type\": \"scatterpolar\"}], \"scatterpolargl\": [{\"marker\": {\"colorbar\": {\"outlinewidth\": 0, \"ticks\": \"\"}}, \"type\": \"scatterpolargl\"}], \"scatterternary\": [{\"marker\": {\"colorbar\": {\"outlinewidth\": 0, \"ticks\": \"\"}}, \"type\": \"scatterternary\"}], \"surface\": [{\"colorbar\": {\"outlinewidth\": 0, \"ticks\": \"\"}, \"colorscale\": [[0.0, \"#0d0887\"], [0.1111111111111111, \"#46039f\"], [0.2222222222222222, \"#7201a8\"], [0.3333333333333333, \"#9c179e\"], [0.4444444444444444, \"#bd3786\"], [0.5555555555555556, \"#d8576b\"], [0.6666666666666666, \"#ed7953\"], [0.7777777777777778, \"#fb9f3a\"], [0.8888888888888888, \"#fdca26\"], [1.0, \"#f0f921\"]], \"type\": \"surface\"}], \"table\": [{\"cells\": {\"fill\": {\"color\": \"#EBF0F8\"}, \"line\": {\"color\": \"white\"}}, \"header\": {\"fill\": {\"color\": \"#C8D4E3\"}, \"line\": {\"color\": \"white\"}}, \"type\": \"table\"}]}, \"layout\": {\"annotationdefaults\": {\"arrowcolor\": \"#2a3f5f\", \"arrowhead\": 0, \"arrowwidth\": 1}, \"coloraxis\": {\"colorbar\": {\"outlinewidth\": 0, \"ticks\": \"\"}}, \"colorscale\": {\"diverging\": [[0, \"#8e0152\"], [0.1, \"#c51b7d\"], [0.2, \"#de77ae\"], [0.3, \"#f1b6da\"], [0.4, \"#fde0ef\"], [0.5, \"#f7f7f7\"], [0.6, \"#e6f5d0\"], [0.7, \"#b8e186\"], [0.8, \"#7fbc41\"], [0.9, \"#4d9221\"], [1, \"#276419\"]], \"sequential\": [[0.0, \"#0d0887\"], [0.1111111111111111, \"#46039f\"], [0.2222222222222222, \"#7201a8\"], [0.3333333333333333, \"#9c179e\"], [0.4444444444444444, \"#bd3786\"], [0.5555555555555556, \"#d8576b\"], [0.6666666666666666, \"#ed7953\"], [0.7777777777777778, \"#fb9f3a\"], [0.8888888888888888, \"#fdca26\"], [1.0, \"#f0f921\"]], \"sequentialminus\": [[0.0, \"#0d0887\"], [0.1111111111111111, \"#46039f\"], [0.2222222222222222, \"#7201a8\"], [0.3333333333333333, \"#9c179e\"], [0.4444444444444444, \"#bd3786\"], [0.5555555555555556, \"#d8576b\"], [0.6666666666666666, \"#ed7953\"], [0.7777777777777778, \"#fb9f3a\"], [0.8888888888888888, \"#fdca26\"], [1.0, \"#f0f921\"]]}, \"colorway\": [\"#636efa\", \"#EF553B\", \"#00cc96\", \"#ab63fa\", \"#FFA15A\", \"#19d3f3\", \"#FF6692\", \"#B6E880\", \"#FF97FF\", \"#FECB52\"], \"font\": {\"color\": \"#2a3f5f\"}, \"geo\": {\"bgcolor\": \"white\", \"lakecolor\": \"white\", \"landcolor\": \"#E5ECF6\", \"showlakes\": true, \"showland\": true, \"subunitcolor\": \"white\"}, \"hoverlabel\": {\"align\": \"left\"}, \"hovermode\": \"closest\", \"mapbox\": {\"style\": \"light\"}, \"paper_bgcolor\": \"white\", \"plot_bgcolor\": \"#E5ECF6\", \"polar\": {\"angularaxis\": {\"gridcolor\": \"white\", \"linecolor\": \"white\", \"ticks\": \"\"}, \"bgcolor\": \"#E5ECF6\", \"radialaxis\": {\"gridcolor\": \"white\", \"linecolor\": \"white\", \"ticks\": \"\"}}, \"scene\": {\"xaxis\": {\"backgroundcolor\": \"#E5ECF6\", \"gridcolor\": \"white\", \"gridwidth\": 2, \"linecolor\": \"white\", \"showbackground\": true, \"ticks\": \"\", \"zerolinecolor\": \"white\"}, \"yaxis\": {\"backgroundcolor\": \"#E5ECF6\", \"gridcolor\": \"white\", \"gridwidth\": 2, \"linecolor\": \"white\", \"showbackground\": true, \"ticks\": \"\", \"zerolinecolor\": \"white\"}, \"zaxis\": {\"backgroundcolor\": \"#E5ECF6\", \"gridcolor\": \"white\", \"gridwidth\": 2, \"linecolor\": \"white\", \"showbackground\": true, \"ticks\": \"\", \"zerolinecolor\": \"white\"}}, \"shapedefaults\": {\"line\": {\"color\": \"#2a3f5f\"}}, \"ternary\": {\"aaxis\": {\"gridcolor\": \"white\", \"linecolor\": \"white\", \"ticks\": \"\"}, \"baxis\": {\"gridcolor\": \"white\", \"linecolor\": \"white\", \"ticks\": \"\"}, \"bgcolor\": \"#E5ECF6\", \"caxis\": {\"gridcolor\": \"white\", \"linecolor\": \"white\", \"ticks\": \"\"}}, \"title\": {\"x\": 0.05}, \"xaxis\": {\"automargin\": true, \"gridcolor\": \"white\", \"linecolor\": \"white\", \"ticks\": \"\", \"title\": {\"standoff\": 15}, \"zerolinecolor\": \"white\", \"zerolinewidth\": 2}, \"yaxis\": {\"automargin\": true, \"gridcolor\": \"white\", \"linecolor\": \"white\", \"ticks\": \"\", \"title\": {\"standoff\": 15}, \"zerolinecolor\": \"white\", \"zerolinewidth\": 2}}}, \"ternary\": {\"aaxis\": {\"showgrid\": true, \"tickangle\": 0, \"tickfont\": {\"size\": 12}, \"title\": {\"font\": {\"size\": 14}, \"text\": \"Guards\"}}, \"baxis\": {\"showgrid\": true, \"tickangle\": 45, \"tickfont\": {\"size\": 12}, \"title\": {\"font\": {\"size\": 14}, \"text\": \"<br>Wings\"}}, \"caxis\": {\"showgrid\": true, \"tickangle\": -45, \"tickfont\": {\"size\": 12}, \"title\": {\"font\": {\"size\": 14}, \"text\": \"<br>Bigs\"}}, \"sum\": 100}, \"width\": 500},\n",
       "                        {\"responsive\": true}\n",
       "                    ).then(function(){\n",
       "                            \n",
       "var gd = document.getElementById('6c74f747-0c26-4581-a2c4-0daa37bda87f');\n",
       "var x = new MutationObserver(function (mutations, observer) {{\n",
       "        var display = window.getComputedStyle(gd).display;\n",
       "        if (!display || display === 'none') {{\n",
       "            console.log([gd, 'removed!']);\n",
       "            Plotly.purge(gd);\n",
       "            observer.disconnect();\n",
       "        }}\n",
       "}});\n",
       "\n",
       "// Listen for the removal of the full notebook cells\n",
       "var notebookContainer = gd.closest('#notebook-container');\n",
       "if (notebookContainer) {{\n",
       "    x.observe(notebookContainer, {childList: true});\n",
       "}}\n",
       "\n",
       "// Listen for the clearing of the current output cell\n",
       "var outputEl = gd.closest('.output');\n",
       "if (outputEl) {{\n",
       "    x.observe(outputEl, {childList: true});\n",
       "}}\n",
       "\n",
       "                        })\n",
       "                };\n",
       "                });\n",
       "            </script>\n",
       "        </div>"
      ]
     },
     "metadata": {},
     "output_type": "display_data"
    }
   ],
   "source": [
    "fig = go.Figure()\n",
    "\n",
    "fig.add_trace(go.Scatterternary(\n",
    "    {\n",
    "    'name': 'Team 1 Scoring', \n",
    "    'mode': 'markers',\n",
    "    'a': [i for i in map(lambda x: x['Guards'], datatm1)], \n",
    "    'b': [i for i in map(lambda x: x['Bigs'], datatm1)],\n",
    "    'c': [i for i in map(lambda x: x['Wings'], datatm1)], \n",
    "    'marker': \n",
    "        {\n",
    "        'symbol': 100, \n",
    "        'color': '#DB7365', \n",
    "        'size': 14,\n",
    "        'line': {'width': 2} \n",
    "        }\n",
    "    }\n",
    "))\n",
    "\n",
    "fig.add_trace(go.Scatterternary(\n",
    "    {\n",
    "    'name': 'Team 2 Scoring',\n",
    "    'mode': 'markers',\n",
    "    'a': [i for i in map(lambda x: x['Guards'], datatm2)],\n",
    "    'b': [i for i in map(lambda x: x['Bigs'], datatm2)],\n",
    "    'c': [i for i in map(lambda x: x['Wings'], datatm2)],\n",
    "    'marker': \n",
    "        {\n",
    "        'color': '#44D500',\n",
    "        'size': 14,\n",
    "        'opacity': 0.4\n",
    "        }\n",
    "    }\n",
    "))\n",
    "\n",
    "# We'll create this custom function to stylize each of our three component axes\n",
    "def makeAxis(title, tickangle):\n",
    "    return {\n",
    "      'title': title, # Set the name of the actual axis so that it doesn't just say \"Component A\" like above\n",
    "      'titlefont': { 'size': 14 }, # Stylize the font of the axis titles\n",
    "      'tickangle': tickangle, # Rotate the tick labels\n",
    "      'tickfont': { 'size': 12 }, # Style the font of the tick labels\n",
    "      'showgrid': True # We could turn off the grid you see above, but let's go ahead and keep it for now\n",
    "    }\n",
    "\n",
    "# And now we can define the actual layout of the Plotly figure\n",
    "fig.update_layout({\n",
    "    # Update the layout of the actual graph\n",
    "    'ternary': {\n",
    "        'sum': 100, # We want the axes to sum to 100 rather than 1 so that the percentage are more intuitive\n",
    "        'aaxis': makeAxis('Guards', 0), # Stylize the 'Guards' axis using the above function; no label rotation\n",
    "        'baxis': makeAxis('<br>Wings', 45), # Stylize the 'Wings' axis; rotate ticks labels 45 degrees\n",
    "        'caxis': makeAxis('<br>Bigs', -45) # Stylize the 'Bigs' axis; rotate ticks labels -45 degrees\n",
    "    },\n",
    "    \n",
    "    # Update the layout of the rest of the graph components like the legend and figure size\n",
    "    'legend': {'x': -0.2,\n",
    "               'y': 1,\n",
    "               'font': {'size': 14}},\n",
    "    'width': 500,\n",
    "    'height': 500\n",
    "})\n",
    "\n",
    "fig.show() "
   ]
  },
  {
   "cell_type": "markdown",
   "metadata": {},
   "source": [
    "## B) Now let's look at the famous windrose diagrams"
   ]
  },
  {
   "cell_type": "code",
   "execution_count": 7,
   "metadata": {},
   "outputs": [],
   "source": [
    "# We'll create a sample data set to start with\n",
    "# Let's call it windspeed by direction (similar to the example on Plotly's website)\n",
    "# There are 8 cardinal and ordinal directions\n",
    "# Windrose charts are best utilized when there's a radial or cyclical component guiding your quantities\n",
    "speed = [8, 7, 12, 18, 15, 5, 4, 7]"
   ]
  },
  {
   "cell_type": "code",
   "execution_count": 8,
   "metadata": {},
   "outputs": [
    {
     "data": {
      "application/vnd.plotly.v1+json": {
       "config": {
        "plotlyServerURL": "https://plot.ly"
       },
       "data": [
        {
         "marker": {
          "color": [
           "rgba(231, 76, 60, 1)",
           "rgba(231, 76, 60, 1)",
           "rgba(241, 196, 15, 1)",
           "rgba(241, 196, 15, 1)",
           "rgba(241, 196, 15, 1)",
           "rgba(231, 76, 60, 1)",
           "rgba(231, 76, 60, 1)",
           "rgba(231, 76, 60, 1)"
          ],
          "line": {
           "color": [
            "rgba(0,0,0,1)",
            "rgba(0,0,0,1)",
            "rgba(0,0,0,1)",
            "rgba(0,0,0,1)",
            "rgba(0,0,0,1)",
            "rgba(0,0,0,1)",
            "rgba(0,0,0,1)",
            "rgba(0,0,0,1)"
           ],
           "width": 1
          }
         },
         "name": "windspeeds",
         "r": [
          8,
          7,
          12,
          18,
          15,
          5,
          4,
          7
         ],
         "showlegend": false,
         "type": "barpolar",
         "width": 45
        }
       ],
       "layout": {
        "height": 500,
        "margin": {
         "b": 25,
         "l": 25,
         "r": 25,
         "t": 25
        },
        "paper_bgcolor": "rgba(0,0,0,0)",
        "polar": {
         "angularaxis": {
          "direction": "clockwise",
          "rotation": 90,
          "visible": true
         },
         "bgcolor": "rgba(248, 194, 145, 1)",
         "radialaxis": {
          "visible": false
         }
        },
        "template": {
         "data": {
          "bar": [
           {
            "error_x": {
             "color": "#2a3f5f"
            },
            "error_y": {
             "color": "#2a3f5f"
            },
            "marker": {
             "line": {
              "color": "#E5ECF6",
              "width": 0.5
             }
            },
            "type": "bar"
           }
          ],
          "barpolar": [
           {
            "marker": {
             "line": {
              "color": "#E5ECF6",
              "width": 0.5
             }
            },
            "type": "barpolar"
           }
          ],
          "carpet": [
           {
            "aaxis": {
             "endlinecolor": "#2a3f5f",
             "gridcolor": "white",
             "linecolor": "white",
             "minorgridcolor": "white",
             "startlinecolor": "#2a3f5f"
            },
            "baxis": {
             "endlinecolor": "#2a3f5f",
             "gridcolor": "white",
             "linecolor": "white",
             "minorgridcolor": "white",
             "startlinecolor": "#2a3f5f"
            },
            "type": "carpet"
           }
          ],
          "choropleth": [
           {
            "colorbar": {
             "outlinewidth": 0,
             "ticks": ""
            },
            "type": "choropleth"
           }
          ],
          "contour": [
           {
            "colorbar": {
             "outlinewidth": 0,
             "ticks": ""
            },
            "colorscale": [
             [
              0,
              "#0d0887"
             ],
             [
              0.1111111111111111,
              "#46039f"
             ],
             [
              0.2222222222222222,
              "#7201a8"
             ],
             [
              0.3333333333333333,
              "#9c179e"
             ],
             [
              0.4444444444444444,
              "#bd3786"
             ],
             [
              0.5555555555555556,
              "#d8576b"
             ],
             [
              0.6666666666666666,
              "#ed7953"
             ],
             [
              0.7777777777777778,
              "#fb9f3a"
             ],
             [
              0.8888888888888888,
              "#fdca26"
             ],
             [
              1,
              "#f0f921"
             ]
            ],
            "type": "contour"
           }
          ],
          "contourcarpet": [
           {
            "colorbar": {
             "outlinewidth": 0,
             "ticks": ""
            },
            "type": "contourcarpet"
           }
          ],
          "heatmap": [
           {
            "colorbar": {
             "outlinewidth": 0,
             "ticks": ""
            },
            "colorscale": [
             [
              0,
              "#0d0887"
             ],
             [
              0.1111111111111111,
              "#46039f"
             ],
             [
              0.2222222222222222,
              "#7201a8"
             ],
             [
              0.3333333333333333,
              "#9c179e"
             ],
             [
              0.4444444444444444,
              "#bd3786"
             ],
             [
              0.5555555555555556,
              "#d8576b"
             ],
             [
              0.6666666666666666,
              "#ed7953"
             ],
             [
              0.7777777777777778,
              "#fb9f3a"
             ],
             [
              0.8888888888888888,
              "#fdca26"
             ],
             [
              1,
              "#f0f921"
             ]
            ],
            "type": "heatmap"
           }
          ],
          "heatmapgl": [
           {
            "colorbar": {
             "outlinewidth": 0,
             "ticks": ""
            },
            "colorscale": [
             [
              0,
              "#0d0887"
             ],
             [
              0.1111111111111111,
              "#46039f"
             ],
             [
              0.2222222222222222,
              "#7201a8"
             ],
             [
              0.3333333333333333,
              "#9c179e"
             ],
             [
              0.4444444444444444,
              "#bd3786"
             ],
             [
              0.5555555555555556,
              "#d8576b"
             ],
             [
              0.6666666666666666,
              "#ed7953"
             ],
             [
              0.7777777777777778,
              "#fb9f3a"
             ],
             [
              0.8888888888888888,
              "#fdca26"
             ],
             [
              1,
              "#f0f921"
             ]
            ],
            "type": "heatmapgl"
           }
          ],
          "histogram": [
           {
            "marker": {
             "colorbar": {
              "outlinewidth": 0,
              "ticks": ""
             }
            },
            "type": "histogram"
           }
          ],
          "histogram2d": [
           {
            "colorbar": {
             "outlinewidth": 0,
             "ticks": ""
            },
            "colorscale": [
             [
              0,
              "#0d0887"
             ],
             [
              0.1111111111111111,
              "#46039f"
             ],
             [
              0.2222222222222222,
              "#7201a8"
             ],
             [
              0.3333333333333333,
              "#9c179e"
             ],
             [
              0.4444444444444444,
              "#bd3786"
             ],
             [
              0.5555555555555556,
              "#d8576b"
             ],
             [
              0.6666666666666666,
              "#ed7953"
             ],
             [
              0.7777777777777778,
              "#fb9f3a"
             ],
             [
              0.8888888888888888,
              "#fdca26"
             ],
             [
              1,
              "#f0f921"
             ]
            ],
            "type": "histogram2d"
           }
          ],
          "histogram2dcontour": [
           {
            "colorbar": {
             "outlinewidth": 0,
             "ticks": ""
            },
            "colorscale": [
             [
              0,
              "#0d0887"
             ],
             [
              0.1111111111111111,
              "#46039f"
             ],
             [
              0.2222222222222222,
              "#7201a8"
             ],
             [
              0.3333333333333333,
              "#9c179e"
             ],
             [
              0.4444444444444444,
              "#bd3786"
             ],
             [
              0.5555555555555556,
              "#d8576b"
             ],
             [
              0.6666666666666666,
              "#ed7953"
             ],
             [
              0.7777777777777778,
              "#fb9f3a"
             ],
             [
              0.8888888888888888,
              "#fdca26"
             ],
             [
              1,
              "#f0f921"
             ]
            ],
            "type": "histogram2dcontour"
           }
          ],
          "mesh3d": [
           {
            "colorbar": {
             "outlinewidth": 0,
             "ticks": ""
            },
            "type": "mesh3d"
           }
          ],
          "parcoords": [
           {
            "line": {
             "colorbar": {
              "outlinewidth": 0,
              "ticks": ""
             }
            },
            "type": "parcoords"
           }
          ],
          "pie": [
           {
            "automargin": true,
            "type": "pie"
           }
          ],
          "scatter": [
           {
            "marker": {
             "colorbar": {
              "outlinewidth": 0,
              "ticks": ""
             }
            },
            "type": "scatter"
           }
          ],
          "scatter3d": [
           {
            "line": {
             "colorbar": {
              "outlinewidth": 0,
              "ticks": ""
             }
            },
            "marker": {
             "colorbar": {
              "outlinewidth": 0,
              "ticks": ""
             }
            },
            "type": "scatter3d"
           }
          ],
          "scattercarpet": [
           {
            "marker": {
             "colorbar": {
              "outlinewidth": 0,
              "ticks": ""
             }
            },
            "type": "scattercarpet"
           }
          ],
          "scattergeo": [
           {
            "marker": {
             "colorbar": {
              "outlinewidth": 0,
              "ticks": ""
             }
            },
            "type": "scattergeo"
           }
          ],
          "scattergl": [
           {
            "marker": {
             "colorbar": {
              "outlinewidth": 0,
              "ticks": ""
             }
            },
            "type": "scattergl"
           }
          ],
          "scattermapbox": [
           {
            "marker": {
             "colorbar": {
              "outlinewidth": 0,
              "ticks": ""
             }
            },
            "type": "scattermapbox"
           }
          ],
          "scatterpolar": [
           {
            "marker": {
             "colorbar": {
              "outlinewidth": 0,
              "ticks": ""
             }
            },
            "type": "scatterpolar"
           }
          ],
          "scatterpolargl": [
           {
            "marker": {
             "colorbar": {
              "outlinewidth": 0,
              "ticks": ""
             }
            },
            "type": "scatterpolargl"
           }
          ],
          "scatterternary": [
           {
            "marker": {
             "colorbar": {
              "outlinewidth": 0,
              "ticks": ""
             }
            },
            "type": "scatterternary"
           }
          ],
          "surface": [
           {
            "colorbar": {
             "outlinewidth": 0,
             "ticks": ""
            },
            "colorscale": [
             [
              0,
              "#0d0887"
             ],
             [
              0.1111111111111111,
              "#46039f"
             ],
             [
              0.2222222222222222,
              "#7201a8"
             ],
             [
              0.3333333333333333,
              "#9c179e"
             ],
             [
              0.4444444444444444,
              "#bd3786"
             ],
             [
              0.5555555555555556,
              "#d8576b"
             ],
             [
              0.6666666666666666,
              "#ed7953"
             ],
             [
              0.7777777777777778,
              "#fb9f3a"
             ],
             [
              0.8888888888888888,
              "#fdca26"
             ],
             [
              1,
              "#f0f921"
             ]
            ],
            "type": "surface"
           }
          ],
          "table": [
           {
            "cells": {
             "fill": {
              "color": "#EBF0F8"
             },
             "line": {
              "color": "white"
             }
            },
            "header": {
             "fill": {
              "color": "#C8D4E3"
             },
             "line": {
              "color": "white"
             }
            },
            "type": "table"
           }
          ]
         },
         "layout": {
          "annotationdefaults": {
           "arrowcolor": "#2a3f5f",
           "arrowhead": 0,
           "arrowwidth": 1
          },
          "coloraxis": {
           "colorbar": {
            "outlinewidth": 0,
            "ticks": ""
           }
          },
          "colorscale": {
           "diverging": [
            [
             0,
             "#8e0152"
            ],
            [
             0.1,
             "#c51b7d"
            ],
            [
             0.2,
             "#de77ae"
            ],
            [
             0.3,
             "#f1b6da"
            ],
            [
             0.4,
             "#fde0ef"
            ],
            [
             0.5,
             "#f7f7f7"
            ],
            [
             0.6,
             "#e6f5d0"
            ],
            [
             0.7,
             "#b8e186"
            ],
            [
             0.8,
             "#7fbc41"
            ],
            [
             0.9,
             "#4d9221"
            ],
            [
             1,
             "#276419"
            ]
           ],
           "sequential": [
            [
             0,
             "#0d0887"
            ],
            [
             0.1111111111111111,
             "#46039f"
            ],
            [
             0.2222222222222222,
             "#7201a8"
            ],
            [
             0.3333333333333333,
             "#9c179e"
            ],
            [
             0.4444444444444444,
             "#bd3786"
            ],
            [
             0.5555555555555556,
             "#d8576b"
            ],
            [
             0.6666666666666666,
             "#ed7953"
            ],
            [
             0.7777777777777778,
             "#fb9f3a"
            ],
            [
             0.8888888888888888,
             "#fdca26"
            ],
            [
             1,
             "#f0f921"
            ]
           ],
           "sequentialminus": [
            [
             0,
             "#0d0887"
            ],
            [
             0.1111111111111111,
             "#46039f"
            ],
            [
             0.2222222222222222,
             "#7201a8"
            ],
            [
             0.3333333333333333,
             "#9c179e"
            ],
            [
             0.4444444444444444,
             "#bd3786"
            ],
            [
             0.5555555555555556,
             "#d8576b"
            ],
            [
             0.6666666666666666,
             "#ed7953"
            ],
            [
             0.7777777777777778,
             "#fb9f3a"
            ],
            [
             0.8888888888888888,
             "#fdca26"
            ],
            [
             1,
             "#f0f921"
            ]
           ]
          },
          "colorway": [
           "#636efa",
           "#EF553B",
           "#00cc96",
           "#ab63fa",
           "#FFA15A",
           "#19d3f3",
           "#FF6692",
           "#B6E880",
           "#FF97FF",
           "#FECB52"
          ],
          "font": {
           "color": "#2a3f5f"
          },
          "geo": {
           "bgcolor": "white",
           "lakecolor": "white",
           "landcolor": "#E5ECF6",
           "showlakes": true,
           "showland": true,
           "subunitcolor": "white"
          },
          "hoverlabel": {
           "align": "left"
          },
          "hovermode": "closest",
          "mapbox": {
           "style": "light"
          },
          "paper_bgcolor": "white",
          "plot_bgcolor": "#E5ECF6",
          "polar": {
           "angularaxis": {
            "gridcolor": "white",
            "linecolor": "white",
            "ticks": ""
           },
           "bgcolor": "#E5ECF6",
           "radialaxis": {
            "gridcolor": "white",
            "linecolor": "white",
            "ticks": ""
           }
          },
          "scene": {
           "xaxis": {
            "backgroundcolor": "#E5ECF6",
            "gridcolor": "white",
            "gridwidth": 2,
            "linecolor": "white",
            "showbackground": true,
            "ticks": "",
            "zerolinecolor": "white"
           },
           "yaxis": {
            "backgroundcolor": "#E5ECF6",
            "gridcolor": "white",
            "gridwidth": 2,
            "linecolor": "white",
            "showbackground": true,
            "ticks": "",
            "zerolinecolor": "white"
           },
           "zaxis": {
            "backgroundcolor": "#E5ECF6",
            "gridcolor": "white",
            "gridwidth": 2,
            "linecolor": "white",
            "showbackground": true,
            "ticks": "",
            "zerolinecolor": "white"
           }
          },
          "shapedefaults": {
           "line": {
            "color": "#2a3f5f"
           }
          },
          "ternary": {
           "aaxis": {
            "gridcolor": "white",
            "linecolor": "white",
            "ticks": ""
           },
           "baxis": {
            "gridcolor": "white",
            "linecolor": "white",
            "ticks": ""
           },
           "bgcolor": "#E5ECF6",
           "caxis": {
            "gridcolor": "white",
            "linecolor": "white",
            "ticks": ""
           }
          },
          "title": {
           "x": 0.05
          },
          "xaxis": {
           "automargin": true,
           "gridcolor": "white",
           "linecolor": "white",
           "ticks": "",
           "title": {
            "standoff": 15
           },
           "zerolinecolor": "white",
           "zerolinewidth": 2
          },
          "yaxis": {
           "automargin": true,
           "gridcolor": "white",
           "linecolor": "white",
           "ticks": "",
           "title": {
            "standoff": 15
           },
           "zerolinecolor": "white",
           "zerolinewidth": 2
          }
         }
        },
        "width": 500
       }
      },
      "text/html": [
       "<div>\n",
       "        \n",
       "        \n",
       "            <div id=\"456ac53e-663e-4feb-91e9-42b91ae1b389\" class=\"plotly-graph-div\" style=\"height:500px; width:500px;\"></div>\n",
       "            <script type=\"text/javascript\">\n",
       "                require([\"plotly\"], function(Plotly) {\n",
       "                    window.PLOTLYENV=window.PLOTLYENV || {};\n",
       "                    \n",
       "                if (document.getElementById(\"456ac53e-663e-4feb-91e9-42b91ae1b389\")) {\n",
       "                    Plotly.newPlot(\n",
       "                        '456ac53e-663e-4feb-91e9-42b91ae1b389',\n",
       "                        [{\"marker\": {\"color\": [\"rgba(231, 76, 60, 1)\", \"rgba(231, 76, 60, 1)\", \"rgba(241, 196, 15, 1)\", \"rgba(241, 196, 15, 1)\", \"rgba(241, 196, 15, 1)\", \"rgba(231, 76, 60, 1)\", \"rgba(231, 76, 60, 1)\", \"rgba(231, 76, 60, 1)\"], \"line\": {\"color\": [\"rgba(0,0,0,1)\", \"rgba(0,0,0,1)\", \"rgba(0,0,0,1)\", \"rgba(0,0,0,1)\", \"rgba(0,0,0,1)\", \"rgba(0,0,0,1)\", \"rgba(0,0,0,1)\", \"rgba(0,0,0,1)\"], \"width\": 1}}, \"name\": \"windspeeds\", \"r\": [8, 7, 12, 18, 15, 5, 4, 7], \"showlegend\": false, \"type\": \"barpolar\", \"width\": 45}],\n",
       "                        {\"height\": 500, \"margin\": {\"b\": 25, \"l\": 25, \"r\": 25, \"t\": 25}, \"paper_bgcolor\": \"rgba(0,0,0,0)\", \"polar\": {\"angularaxis\": {\"direction\": \"clockwise\", \"rotation\": 90, \"visible\": true}, \"bgcolor\": \"rgba(248, 194, 145, 1)\", \"radialaxis\": {\"visible\": false}}, \"template\": {\"data\": {\"bar\": [{\"error_x\": {\"color\": \"#2a3f5f\"}, \"error_y\": {\"color\": \"#2a3f5f\"}, \"marker\": {\"line\": {\"color\": \"#E5ECF6\", \"width\": 0.5}}, \"type\": \"bar\"}], \"barpolar\": [{\"marker\": {\"line\": {\"color\": \"#E5ECF6\", \"width\": 0.5}}, \"type\": \"barpolar\"}], \"carpet\": [{\"aaxis\": {\"endlinecolor\": \"#2a3f5f\", \"gridcolor\": \"white\", \"linecolor\": \"white\", \"minorgridcolor\": \"white\", \"startlinecolor\": \"#2a3f5f\"}, \"baxis\": {\"endlinecolor\": \"#2a3f5f\", \"gridcolor\": \"white\", \"linecolor\": \"white\", \"minorgridcolor\": \"white\", \"startlinecolor\": \"#2a3f5f\"}, \"type\": \"carpet\"}], \"choropleth\": [{\"colorbar\": {\"outlinewidth\": 0, \"ticks\": \"\"}, \"type\": \"choropleth\"}], \"contour\": [{\"colorbar\": {\"outlinewidth\": 0, \"ticks\": \"\"}, \"colorscale\": [[0.0, \"#0d0887\"], [0.1111111111111111, \"#46039f\"], [0.2222222222222222, \"#7201a8\"], [0.3333333333333333, \"#9c179e\"], [0.4444444444444444, \"#bd3786\"], [0.5555555555555556, \"#d8576b\"], [0.6666666666666666, \"#ed7953\"], [0.7777777777777778, \"#fb9f3a\"], [0.8888888888888888, \"#fdca26\"], [1.0, \"#f0f921\"]], \"type\": \"contour\"}], \"contourcarpet\": [{\"colorbar\": {\"outlinewidth\": 0, \"ticks\": \"\"}, \"type\": \"contourcarpet\"}], \"heatmap\": [{\"colorbar\": {\"outlinewidth\": 0, \"ticks\": \"\"}, \"colorscale\": [[0.0, \"#0d0887\"], [0.1111111111111111, \"#46039f\"], [0.2222222222222222, \"#7201a8\"], [0.3333333333333333, \"#9c179e\"], [0.4444444444444444, \"#bd3786\"], [0.5555555555555556, \"#d8576b\"], [0.6666666666666666, \"#ed7953\"], [0.7777777777777778, \"#fb9f3a\"], [0.8888888888888888, \"#fdca26\"], [1.0, \"#f0f921\"]], \"type\": \"heatmap\"}], \"heatmapgl\": [{\"colorbar\": {\"outlinewidth\": 0, \"ticks\": \"\"}, \"colorscale\": [[0.0, \"#0d0887\"], [0.1111111111111111, \"#46039f\"], [0.2222222222222222, \"#7201a8\"], [0.3333333333333333, \"#9c179e\"], [0.4444444444444444, \"#bd3786\"], [0.5555555555555556, \"#d8576b\"], [0.6666666666666666, \"#ed7953\"], [0.7777777777777778, \"#fb9f3a\"], [0.8888888888888888, \"#fdca26\"], [1.0, \"#f0f921\"]], \"type\": \"heatmapgl\"}], \"histogram\": [{\"marker\": {\"colorbar\": {\"outlinewidth\": 0, \"ticks\": \"\"}}, \"type\": \"histogram\"}], \"histogram2d\": [{\"colorbar\": {\"outlinewidth\": 0, \"ticks\": \"\"}, \"colorscale\": [[0.0, \"#0d0887\"], [0.1111111111111111, \"#46039f\"], [0.2222222222222222, \"#7201a8\"], [0.3333333333333333, \"#9c179e\"], [0.4444444444444444, \"#bd3786\"], [0.5555555555555556, \"#d8576b\"], [0.6666666666666666, \"#ed7953\"], [0.7777777777777778, \"#fb9f3a\"], [0.8888888888888888, \"#fdca26\"], [1.0, \"#f0f921\"]], \"type\": \"histogram2d\"}], \"histogram2dcontour\": [{\"colorbar\": {\"outlinewidth\": 0, \"ticks\": \"\"}, \"colorscale\": [[0.0, \"#0d0887\"], [0.1111111111111111, \"#46039f\"], [0.2222222222222222, \"#7201a8\"], [0.3333333333333333, \"#9c179e\"], [0.4444444444444444, \"#bd3786\"], [0.5555555555555556, \"#d8576b\"], [0.6666666666666666, \"#ed7953\"], [0.7777777777777778, \"#fb9f3a\"], [0.8888888888888888, \"#fdca26\"], [1.0, \"#f0f921\"]], \"type\": \"histogram2dcontour\"}], \"mesh3d\": [{\"colorbar\": {\"outlinewidth\": 0, \"ticks\": \"\"}, \"type\": \"mesh3d\"}], \"parcoords\": [{\"line\": {\"colorbar\": {\"outlinewidth\": 0, \"ticks\": \"\"}}, \"type\": \"parcoords\"}], \"pie\": [{\"automargin\": true, \"type\": \"pie\"}], \"scatter\": [{\"marker\": {\"colorbar\": {\"outlinewidth\": 0, \"ticks\": \"\"}}, \"type\": \"scatter\"}], \"scatter3d\": [{\"line\": {\"colorbar\": {\"outlinewidth\": 0, \"ticks\": \"\"}}, \"marker\": {\"colorbar\": {\"outlinewidth\": 0, \"ticks\": \"\"}}, \"type\": \"scatter3d\"}], \"scattercarpet\": [{\"marker\": {\"colorbar\": {\"outlinewidth\": 0, \"ticks\": \"\"}}, \"type\": \"scattercarpet\"}], \"scattergeo\": [{\"marker\": {\"colorbar\": {\"outlinewidth\": 0, \"ticks\": \"\"}}, \"type\": \"scattergeo\"}], \"scattergl\": [{\"marker\": {\"colorbar\": {\"outlinewidth\": 0, \"ticks\": \"\"}}, \"type\": \"scattergl\"}], \"scattermapbox\": [{\"marker\": {\"colorbar\": {\"outlinewidth\": 0, \"ticks\": \"\"}}, \"type\": \"scattermapbox\"}], \"scatterpolar\": [{\"marker\": {\"colorbar\": {\"outlinewidth\": 0, \"ticks\": \"\"}}, \"type\": \"scatterpolar\"}], \"scatterpolargl\": [{\"marker\": {\"colorbar\": {\"outlinewidth\": 0, \"ticks\": \"\"}}, \"type\": \"scatterpolargl\"}], \"scatterternary\": [{\"marker\": {\"colorbar\": {\"outlinewidth\": 0, \"ticks\": \"\"}}, \"type\": \"scatterternary\"}], \"surface\": [{\"colorbar\": {\"outlinewidth\": 0, \"ticks\": \"\"}, \"colorscale\": [[0.0, \"#0d0887\"], [0.1111111111111111, \"#46039f\"], [0.2222222222222222, \"#7201a8\"], [0.3333333333333333, \"#9c179e\"], [0.4444444444444444, \"#bd3786\"], [0.5555555555555556, \"#d8576b\"], [0.6666666666666666, \"#ed7953\"], [0.7777777777777778, \"#fb9f3a\"], [0.8888888888888888, \"#fdca26\"], [1.0, \"#f0f921\"]], \"type\": \"surface\"}], \"table\": [{\"cells\": {\"fill\": {\"color\": \"#EBF0F8\"}, \"line\": {\"color\": \"white\"}}, \"header\": {\"fill\": {\"color\": \"#C8D4E3\"}, \"line\": {\"color\": \"white\"}}, \"type\": \"table\"}]}, \"layout\": {\"annotationdefaults\": {\"arrowcolor\": \"#2a3f5f\", \"arrowhead\": 0, \"arrowwidth\": 1}, \"coloraxis\": {\"colorbar\": {\"outlinewidth\": 0, \"ticks\": \"\"}}, \"colorscale\": {\"diverging\": [[0, \"#8e0152\"], [0.1, \"#c51b7d\"], [0.2, \"#de77ae\"], [0.3, \"#f1b6da\"], [0.4, \"#fde0ef\"], [0.5, \"#f7f7f7\"], [0.6, \"#e6f5d0\"], [0.7, \"#b8e186\"], [0.8, \"#7fbc41\"], [0.9, \"#4d9221\"], [1, \"#276419\"]], \"sequential\": [[0.0, \"#0d0887\"], [0.1111111111111111, \"#46039f\"], [0.2222222222222222, \"#7201a8\"], [0.3333333333333333, \"#9c179e\"], [0.4444444444444444, \"#bd3786\"], [0.5555555555555556, \"#d8576b\"], [0.6666666666666666, \"#ed7953\"], [0.7777777777777778, \"#fb9f3a\"], [0.8888888888888888, \"#fdca26\"], [1.0, \"#f0f921\"]], \"sequentialminus\": [[0.0, \"#0d0887\"], [0.1111111111111111, \"#46039f\"], [0.2222222222222222, \"#7201a8\"], [0.3333333333333333, \"#9c179e\"], [0.4444444444444444, \"#bd3786\"], [0.5555555555555556, \"#d8576b\"], [0.6666666666666666, \"#ed7953\"], [0.7777777777777778, \"#fb9f3a\"], [0.8888888888888888, \"#fdca26\"], [1.0, \"#f0f921\"]]}, \"colorway\": [\"#636efa\", \"#EF553B\", \"#00cc96\", \"#ab63fa\", \"#FFA15A\", \"#19d3f3\", \"#FF6692\", \"#B6E880\", \"#FF97FF\", \"#FECB52\"], \"font\": {\"color\": \"#2a3f5f\"}, \"geo\": {\"bgcolor\": \"white\", \"lakecolor\": \"white\", \"landcolor\": \"#E5ECF6\", \"showlakes\": true, \"showland\": true, \"subunitcolor\": \"white\"}, \"hoverlabel\": {\"align\": \"left\"}, \"hovermode\": \"closest\", \"mapbox\": {\"style\": \"light\"}, \"paper_bgcolor\": \"white\", \"plot_bgcolor\": \"#E5ECF6\", \"polar\": {\"angularaxis\": {\"gridcolor\": \"white\", \"linecolor\": \"white\", \"ticks\": \"\"}, \"bgcolor\": \"#E5ECF6\", \"radialaxis\": {\"gridcolor\": \"white\", \"linecolor\": \"white\", \"ticks\": \"\"}}, \"scene\": {\"xaxis\": {\"backgroundcolor\": \"#E5ECF6\", \"gridcolor\": \"white\", \"gridwidth\": 2, \"linecolor\": \"white\", \"showbackground\": true, \"ticks\": \"\", \"zerolinecolor\": \"white\"}, \"yaxis\": {\"backgroundcolor\": \"#E5ECF6\", \"gridcolor\": \"white\", \"gridwidth\": 2, \"linecolor\": \"white\", \"showbackground\": true, \"ticks\": \"\", \"zerolinecolor\": \"white\"}, \"zaxis\": {\"backgroundcolor\": \"#E5ECF6\", \"gridcolor\": \"white\", \"gridwidth\": 2, \"linecolor\": \"white\", \"showbackground\": true, \"ticks\": \"\", \"zerolinecolor\": \"white\"}}, \"shapedefaults\": {\"line\": {\"color\": \"#2a3f5f\"}}, \"ternary\": {\"aaxis\": {\"gridcolor\": \"white\", \"linecolor\": \"white\", \"ticks\": \"\"}, \"baxis\": {\"gridcolor\": \"white\", \"linecolor\": \"white\", \"ticks\": \"\"}, \"bgcolor\": \"#E5ECF6\", \"caxis\": {\"gridcolor\": \"white\", \"linecolor\": \"white\", \"ticks\": \"\"}}, \"title\": {\"x\": 0.05}, \"xaxis\": {\"automargin\": true, \"gridcolor\": \"white\", \"linecolor\": \"white\", \"ticks\": \"\", \"title\": {\"standoff\": 15}, \"zerolinecolor\": \"white\", \"zerolinewidth\": 2}, \"yaxis\": {\"automargin\": true, \"gridcolor\": \"white\", \"linecolor\": \"white\", \"ticks\": \"\", \"title\": {\"standoff\": 15}, \"zerolinecolor\": \"white\", \"zerolinewidth\": 2}}}, \"width\": 500},\n",
       "                        {\"responsive\": true}\n",
       "                    ).then(function(){\n",
       "                            \n",
       "var gd = document.getElementById('456ac53e-663e-4feb-91e9-42b91ae1b389');\n",
       "var x = new MutationObserver(function (mutations, observer) {{\n",
       "        var display = window.getComputedStyle(gd).display;\n",
       "        if (!display || display === 'none') {{\n",
       "            console.log([gd, 'removed!']);\n",
       "            Plotly.purge(gd);\n",
       "            observer.disconnect();\n",
       "        }}\n",
       "}});\n",
       "\n",
       "// Listen for the removal of the full notebook cells\n",
       "var notebookContainer = gd.closest('#notebook-container');\n",
       "if (notebookContainer) {{\n",
       "    x.observe(notebookContainer, {childList: true});\n",
       "}}\n",
       "\n",
       "// Listen for the clearing of the current output cell\n",
       "var outputEl = gd.closest('.output');\n",
       "if (outputEl) {{\n",
       "    x.observe(outputEl, {childList: true});\n",
       "}}\n",
       "\n",
       "                        })\n",
       "                };\n",
       "                });\n",
       "            </script>\n",
       "        </div>"
      ]
     },
     "metadata": {},
     "output_type": "display_data"
    }
   ],
   "source": [
    "# Initialize Plotly Figure\n",
    "fig = go.Figure()\n",
    "\n",
    "# We've got 8 quantities in the array above, so let's define custom markers for each of them\n",
    "# We'll shade them all red except for the ones that will show up in our bottom right quadrant, which will be golden\n",
    "# This is in RGBA notation, where the fourth quantity represents opacity (0 is transparent; 1 is opaque)\n",
    "colorsc = ['rgba(231, 76, 60, 1)', 'rgba(231, 76, 60, 1)', 'rgba(241, 196, 15, 1)',\n",
    "           'rgba(241, 196, 15, 1)', 'rgba(241, 196, 15, 1)', 'rgba(231, 76, 60, 1)', \n",
    "           'rgba(231, 76, 60, 1)', 'rgba(231, 76, 60, 1)']\n",
    "\n",
    "# Similarly, we'll define the borders for all of the radial bars; they'll all be solid black in this case\n",
    "linesc = ['rgba(0,0,0,1)', 'rgba(0,0,0,1)', 'rgba(0,0,0,1)',\n",
    "          'rgba(0,0,0,1)', 'rgba(0,0,0,1)', 'rgba(0,0,0,1)', \n",
    "          'rgba(0,0,0,1)', 'rgba(0,0,0,1)']\n",
    "\n",
    "# Let's add our trace like we saw in the previous example\n",
    "# Here, our trace will be a \"Barpolar\" object\n",
    "fig.add_trace(go.Barpolar(\n",
    "    {\n",
    "    'r': speed, # 'r' is the data parameter for the Barpolar trace\n",
    "    'name': 'windspeeds', # labeling the trace\n",
    "    # let's define the marker with our custom colors and border definitions\n",
    "    'marker': \n",
    "        {\n",
    "        'color': colorsc,\n",
    "        'line': {'color': linesc, 'width': 1}\n",
    "        },\n",
    "    'width': 45, # this sets the width of each bar; takes a little trial and error to see what looks best for you\n",
    "    'showlegend': False # We only have one trace with one set of bars, so no need to have a legend\n",
    "    }\n",
    "))\n",
    "\n",
    "# Like with ternary plots, we can customize our graph's layout\n",
    "fig.update_layout({\n",
    "    'polar_angularaxis_rotation': 90, # This aligns our first bar (0 degrees) straight north\n",
    "    'paper_bgcolor': 'rgba(0,0,0,0)', # We'll turn off the canvas window's background by setting opacity to 0\n",
    "    \n",
    "    # Define attributes specific to the polar chart\n",
    "    'polar': {\n",
    "        'radialaxis': {'visible': False}, # Turn off the radial axis (which guides the length of each bar)\n",
    "        'angularaxis': {'direction': 'clockwise', 'visible': True}, # OTOH, let's see the directionality of each bar\n",
    "        'bgcolor': 'rgba(248, 194, 145, 1)', # Set the background color of our polar chart\n",
    "    },\n",
    "    \n",
    "    # update the margins - set the gaps between the boundaries of the canvas window and our trace\n",
    "    'margin': {\n",
    "        't': 25, # top\n",
    "        'l': 25, # left\n",
    "        'r': 25, # right\n",
    "        'b': 25  # bottom\n",
    "    },\n",
    "    \n",
    "    # Update width and height of canvas window\n",
    "    'width': 500,\n",
    "    'height': 500\n",
    "})\n",
    "\n",
    "fig.show() "
   ]
  },
  {
   "cell_type": "markdown",
   "metadata": {},
   "source": [
    "# 3. Altair"
   ]
  },
  {
   "cell_type": "code",
   "execution_count": null,
   "metadata": {},
   "outputs": [],
   "source": []
  }
 ],
 "metadata": {
  "kernelspec": {
   "display_name": "Python 3",
   "language": "python",
   "name": "python3"
  },
  "language_info": {
   "codemirror_mode": {
    "name": "ipython",
    "version": 3
   },
   "file_extension": ".py",
   "mimetype": "text/x-python",
   "name": "python",
   "nbconvert_exporter": "python",
   "pygments_lexer": "ipython3",
   "version": "3.7.4"
  },
  "widgets": {
   "application/vnd.jupyter.widget-state+json": {
    "state": {},
    "version_major": 2,
    "version_minor": 0
   }
  }
 },
 "nbformat": 4,
 "nbformat_minor": 2
}
